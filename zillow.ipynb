{
 "cells": [
  {
   "cell_type": "markdown",
   "id": "5e8dd3a5",
   "metadata": {},
   "source": [
    "### 1. Acquire data from the cloud database.\n",
    "You will want to end with a single dataframe. Include the logerror field and all other fields related to the properties that are available. You will end up using all the tables in the database.\n",
    "Be sure to do the correct join (inner, outer, etc.). We do not want to eliminate properties purely because they may have a null value for airconditioningtypeid. - Only include properties with a transaction in 2017, and include only the last transaction for each property (so no duplicate property ID's), along with zestimate error and date of transaction. (Hint: read the docs for the .duplicated method) - Only include properties that have a latitude and longitude value"
   ]
  },
  {
   "cell_type": "code",
   "execution_count": 1,
   "id": "f21e283e",
   "metadata": {},
   "outputs": [],
   "source": [
    "#imports\n",
    "import pandas as pd\n",
    "import numpy as np\n",
    "import env\n",
    "import os\n",
    "import wrangle\n",
    "import wrangle_mall\n",
    "import matplotlib.pyplot as plt\n",
    "import seaborn as sns\n",
    "\n",
    "import warnings\n",
    "warnings.filterwarnings(\"ignore\")"
   ]
  },
  {
   "cell_type": "code",
   "execution_count": 2,
   "id": "5554c844",
   "metadata": {},
   "outputs": [
    {
     "data": {
      "application/javascript": [
       "IPython.OutputArea.prototype._should_scroll = function(lines) {\n",
       "    return false;\n",
       "}\n"
      ],
      "text/plain": [
       "<IPython.core.display.Javascript object>"
      ]
     },
     "metadata": {},
     "output_type": "display_data"
    }
   ],
   "source": [
    "%%javascript\n",
    "IPython.OutputArea.prototype._should_scroll = function(lines) {\n",
    "    return false;\n",
    "}"
   ]
  },
  {
   "cell_type": "code",
   "execution_count": 3,
   "id": "a1877761",
   "metadata": {},
   "outputs": [],
   "source": [
    "#display all columns and rows\n",
    "pd.set_option('display.max_columns', 500)\n",
    "pd.set_option('display.max_rows', 500)"
   ]
  },
  {
   "cell_type": "code",
   "execution_count": 4,
   "id": "e0f7f428",
   "metadata": {},
   "outputs": [
    {
     "name": "stdout",
     "output_type": "stream",
     "text": [
      "Using cached data\n"
     ]
    }
   ],
   "source": [
    "#acquire file\n",
    "zillow = wrangle.wrangle_zillow()"
   ]
  },
  {
   "cell_type": "code",
   "execution_count": 5,
   "id": "02d76a11",
   "metadata": {},
   "outputs": [
    {
     "data": {
      "text/html": [
       "<div>\n",
       "<style scoped>\n",
       "    .dataframe tbody tr th:only-of-type {\n",
       "        vertical-align: middle;\n",
       "    }\n",
       "\n",
       "    .dataframe tbody tr th {\n",
       "        vertical-align: top;\n",
       "    }\n",
       "\n",
       "    .dataframe thead th {\n",
       "        text-align: right;\n",
       "    }\n",
       "</style>\n",
       "<table border=\"1\" class=\"dataframe\">\n",
       "  <thead>\n",
       "    <tr style=\"text-align: right;\">\n",
       "      <th></th>\n",
       "      <th>parcelid</th>\n",
       "      <th>airconditioningtypeid</th>\n",
       "      <th>airconditioningdesc</th>\n",
       "      <th>architecturalstyletypeid</th>\n",
       "      <th>architecturalstyledesc</th>\n",
       "      <th>bathroomcnt</th>\n",
       "      <th>bedroomcnt</th>\n",
       "      <th>buildingclasstypeid</th>\n",
       "      <th>buildingclassdesc</th>\n",
       "      <th>buildingqualitytypeid</th>\n",
       "      <th>decktypeid</th>\n",
       "      <th>calculatedfinishedsquarefeet</th>\n",
       "      <th>fips</th>\n",
       "      <th>fireplacecnt</th>\n",
       "      <th>fireplaceflag</th>\n",
       "      <th>garagecarcnt</th>\n",
       "      <th>garagetotalsqft</th>\n",
       "      <th>hashottuborspa</th>\n",
       "      <th>latitude</th>\n",
       "      <th>longitude</th>\n",
       "      <th>lotsizesquarefeet</th>\n",
       "      <th>poolcnt</th>\n",
       "      <th>poolsizesum</th>\n",
       "      <th>propertycountylandusecode</th>\n",
       "      <th>propertylandusetypeid</th>\n",
       "      <th>propertylandusedesc</th>\n",
       "      <th>propertyzoningdesc</th>\n",
       "      <th>rawcensustractandblock</th>\n",
       "      <th>regionidcity</th>\n",
       "      <th>regionidcounty</th>\n",
       "      <th>regionidneighborhood</th>\n",
       "      <th>roomcnt</th>\n",
       "      <th>threequarterbathnbr</th>\n",
       "      <th>typeconstructiontypeid</th>\n",
       "      <th>typeconstructiondesc</th>\n",
       "      <th>unitcnt</th>\n",
       "      <th>yearbuilt</th>\n",
       "      <th>numberofstories</th>\n",
       "      <th>structuretaxvaluedollarcnt</th>\n",
       "      <th>taxvaluedollarcnt</th>\n",
       "      <th>assessmentyear</th>\n",
       "      <th>landtaxvaluedollarcnt</th>\n",
       "      <th>taxamount</th>\n",
       "      <th>censustractandblock</th>\n",
       "      <th>logerror</th>\n",
       "      <th>transactiondate</th>\n",
       "    </tr>\n",
       "  </thead>\n",
       "  <tbody>\n",
       "    <tr>\n",
       "      <th>0</th>\n",
       "      <td>14297519</td>\n",
       "      <td>NaN</td>\n",
       "      <td>NaN</td>\n",
       "      <td>NaN</td>\n",
       "      <td>NaN</td>\n",
       "      <td>3.5</td>\n",
       "      <td>4.0</td>\n",
       "      <td>NaN</td>\n",
       "      <td>NaN</td>\n",
       "      <td>NaN</td>\n",
       "      <td>NaN</td>\n",
       "      <td>3100.0</td>\n",
       "      <td>6059.0</td>\n",
       "      <td>NaN</td>\n",
       "      <td>NaN</td>\n",
       "      <td>2.0</td>\n",
       "      <td>633.0</td>\n",
       "      <td>NaN</td>\n",
       "      <td>33634931.0</td>\n",
       "      <td>-117869207.0</td>\n",
       "      <td>4506.0</td>\n",
       "      <td>NaN</td>\n",
       "      <td>NaN</td>\n",
       "      <td>122</td>\n",
       "      <td>261.0</td>\n",
       "      <td>Single Family Residential</td>\n",
       "      <td>NaN</td>\n",
       "      <td>6.059063e+07</td>\n",
       "      <td>53571.0</td>\n",
       "      <td>1286.0</td>\n",
       "      <td>NaN</td>\n",
       "      <td>0.0</td>\n",
       "      <td>1.0</td>\n",
       "      <td>NaN</td>\n",
       "      <td>NaN</td>\n",
       "      <td>NaN</td>\n",
       "      <td>1998.0</td>\n",
       "      <td>NaN</td>\n",
       "      <td>485713.0</td>\n",
       "      <td>1023282.0</td>\n",
       "      <td>2016.0</td>\n",
       "      <td>537569.0</td>\n",
       "      <td>11013.72</td>\n",
       "      <td>6.059063e+13</td>\n",
       "      <td>0.025595</td>\n",
       "      <td>2017-01-01</td>\n",
       "    </tr>\n",
       "    <tr>\n",
       "      <th>1</th>\n",
       "      <td>17052889</td>\n",
       "      <td>NaN</td>\n",
       "      <td>NaN</td>\n",
       "      <td>NaN</td>\n",
       "      <td>NaN</td>\n",
       "      <td>1.0</td>\n",
       "      <td>2.0</td>\n",
       "      <td>NaN</td>\n",
       "      <td>NaN</td>\n",
       "      <td>NaN</td>\n",
       "      <td>NaN</td>\n",
       "      <td>1465.0</td>\n",
       "      <td>6111.0</td>\n",
       "      <td>1.0</td>\n",
       "      <td>NaN</td>\n",
       "      <td>1.0</td>\n",
       "      <td>0.0</td>\n",
       "      <td>NaN</td>\n",
       "      <td>34449266.0</td>\n",
       "      <td>-119281531.0</td>\n",
       "      <td>12647.0</td>\n",
       "      <td>NaN</td>\n",
       "      <td>NaN</td>\n",
       "      <td>1110</td>\n",
       "      <td>261.0</td>\n",
       "      <td>Single Family Residential</td>\n",
       "      <td>NaN</td>\n",
       "      <td>6.111001e+07</td>\n",
       "      <td>13091.0</td>\n",
       "      <td>2061.0</td>\n",
       "      <td>NaN</td>\n",
       "      <td>5.0</td>\n",
       "      <td>NaN</td>\n",
       "      <td>NaN</td>\n",
       "      <td>NaN</td>\n",
       "      <td>NaN</td>\n",
       "      <td>1967.0</td>\n",
       "      <td>1.0</td>\n",
       "      <td>88000.0</td>\n",
       "      <td>464000.0</td>\n",
       "      <td>2016.0</td>\n",
       "      <td>376000.0</td>\n",
       "      <td>5672.48</td>\n",
       "      <td>6.111001e+13</td>\n",
       "      <td>0.055619</td>\n",
       "      <td>2017-01-01</td>\n",
       "    </tr>\n",
       "    <tr>\n",
       "      <th>2</th>\n",
       "      <td>14186244</td>\n",
       "      <td>NaN</td>\n",
       "      <td>NaN</td>\n",
       "      <td>NaN</td>\n",
       "      <td>NaN</td>\n",
       "      <td>2.0</td>\n",
       "      <td>3.0</td>\n",
       "      <td>NaN</td>\n",
       "      <td>NaN</td>\n",
       "      <td>NaN</td>\n",
       "      <td>NaN</td>\n",
       "      <td>1243.0</td>\n",
       "      <td>6059.0</td>\n",
       "      <td>NaN</td>\n",
       "      <td>NaN</td>\n",
       "      <td>2.0</td>\n",
       "      <td>440.0</td>\n",
       "      <td>NaN</td>\n",
       "      <td>33886168.0</td>\n",
       "      <td>-117823170.0</td>\n",
       "      <td>8432.0</td>\n",
       "      <td>1.0</td>\n",
       "      <td>NaN</td>\n",
       "      <td>122</td>\n",
       "      <td>261.0</td>\n",
       "      <td>Single Family Residential</td>\n",
       "      <td>NaN</td>\n",
       "      <td>6.059022e+07</td>\n",
       "      <td>21412.0</td>\n",
       "      <td>1286.0</td>\n",
       "      <td>NaN</td>\n",
       "      <td>6.0</td>\n",
       "      <td>NaN</td>\n",
       "      <td>NaN</td>\n",
       "      <td>NaN</td>\n",
       "      <td>NaN</td>\n",
       "      <td>1962.0</td>\n",
       "      <td>1.0</td>\n",
       "      <td>85289.0</td>\n",
       "      <td>564778.0</td>\n",
       "      <td>2016.0</td>\n",
       "      <td>479489.0</td>\n",
       "      <td>6488.30</td>\n",
       "      <td>6.059022e+13</td>\n",
       "      <td>0.005383</td>\n",
       "      <td>2017-01-01</td>\n",
       "    </tr>\n",
       "    <tr>\n",
       "      <th>3</th>\n",
       "      <td>12177905</td>\n",
       "      <td>NaN</td>\n",
       "      <td>NaN</td>\n",
       "      <td>NaN</td>\n",
       "      <td>NaN</td>\n",
       "      <td>3.0</td>\n",
       "      <td>4.0</td>\n",
       "      <td>NaN</td>\n",
       "      <td>NaN</td>\n",
       "      <td>8.0</td>\n",
       "      <td>NaN</td>\n",
       "      <td>2376.0</td>\n",
       "      <td>6037.0</td>\n",
       "      <td>NaN</td>\n",
       "      <td>NaN</td>\n",
       "      <td>NaN</td>\n",
       "      <td>NaN</td>\n",
       "      <td>NaN</td>\n",
       "      <td>34245180.0</td>\n",
       "      <td>-118240722.0</td>\n",
       "      <td>13038.0</td>\n",
       "      <td>1.0</td>\n",
       "      <td>NaN</td>\n",
       "      <td>0101</td>\n",
       "      <td>261.0</td>\n",
       "      <td>Single Family Residential</td>\n",
       "      <td>LCR110000*</td>\n",
       "      <td>6.037300e+07</td>\n",
       "      <td>396551.0</td>\n",
       "      <td>3101.0</td>\n",
       "      <td>NaN</td>\n",
       "      <td>0.0</td>\n",
       "      <td>NaN</td>\n",
       "      <td>NaN</td>\n",
       "      <td>NaN</td>\n",
       "      <td>1.0</td>\n",
       "      <td>1970.0</td>\n",
       "      <td>NaN</td>\n",
       "      <td>108918.0</td>\n",
       "      <td>145143.0</td>\n",
       "      <td>2016.0</td>\n",
       "      <td>36225.0</td>\n",
       "      <td>1777.51</td>\n",
       "      <td>6.037300e+13</td>\n",
       "      <td>-0.103410</td>\n",
       "      <td>2017-01-01</td>\n",
       "    </tr>\n",
       "    <tr>\n",
       "      <th>4</th>\n",
       "      <td>10887214</td>\n",
       "      <td>1.0</td>\n",
       "      <td>Central</td>\n",
       "      <td>NaN</td>\n",
       "      <td>NaN</td>\n",
       "      <td>3.0</td>\n",
       "      <td>3.0</td>\n",
       "      <td>NaN</td>\n",
       "      <td>NaN</td>\n",
       "      <td>8.0</td>\n",
       "      <td>NaN</td>\n",
       "      <td>1312.0</td>\n",
       "      <td>6037.0</td>\n",
       "      <td>NaN</td>\n",
       "      <td>NaN</td>\n",
       "      <td>NaN</td>\n",
       "      <td>NaN</td>\n",
       "      <td>NaN</td>\n",
       "      <td>34185120.0</td>\n",
       "      <td>-118414640.0</td>\n",
       "      <td>278581.0</td>\n",
       "      <td>1.0</td>\n",
       "      <td>NaN</td>\n",
       "      <td>010C</td>\n",
       "      <td>266.0</td>\n",
       "      <td>Condominium</td>\n",
       "      <td>LAR3</td>\n",
       "      <td>6.037124e+07</td>\n",
       "      <td>12447.0</td>\n",
       "      <td>3101.0</td>\n",
       "      <td>268548.0</td>\n",
       "      <td>0.0</td>\n",
       "      <td>NaN</td>\n",
       "      <td>NaN</td>\n",
       "      <td>NaN</td>\n",
       "      <td>1.0</td>\n",
       "      <td>1964.0</td>\n",
       "      <td>NaN</td>\n",
       "      <td>73681.0</td>\n",
       "      <td>119407.0</td>\n",
       "      <td>2016.0</td>\n",
       "      <td>45726.0</td>\n",
       "      <td>1533.89</td>\n",
       "      <td>6.037124e+13</td>\n",
       "      <td>0.006940</td>\n",
       "      <td>2017-01-01</td>\n",
       "    </tr>\n",
       "  </tbody>\n",
       "</table>\n",
       "</div>"
      ],
      "text/plain": [
       "   parcelid  airconditioningtypeid airconditioningdesc  \\\n",
       "0  14297519                    NaN                 NaN   \n",
       "1  17052889                    NaN                 NaN   \n",
       "2  14186244                    NaN                 NaN   \n",
       "3  12177905                    NaN                 NaN   \n",
       "4  10887214                    1.0             Central   \n",
       "\n",
       "   architecturalstyletypeid architecturalstyledesc  bathroomcnt  bedroomcnt  \\\n",
       "0                       NaN                    NaN          3.5         4.0   \n",
       "1                       NaN                    NaN          1.0         2.0   \n",
       "2                       NaN                    NaN          2.0         3.0   \n",
       "3                       NaN                    NaN          3.0         4.0   \n",
       "4                       NaN                    NaN          3.0         3.0   \n",
       "\n",
       "   buildingclasstypeid buildingclassdesc  buildingqualitytypeid  decktypeid  \\\n",
       "0                  NaN               NaN                    NaN         NaN   \n",
       "1                  NaN               NaN                    NaN         NaN   \n",
       "2                  NaN               NaN                    NaN         NaN   \n",
       "3                  NaN               NaN                    8.0         NaN   \n",
       "4                  NaN               NaN                    8.0         NaN   \n",
       "\n",
       "   calculatedfinishedsquarefeet    fips  fireplacecnt  fireplaceflag  \\\n",
       "0                        3100.0  6059.0           NaN            NaN   \n",
       "1                        1465.0  6111.0           1.0            NaN   \n",
       "2                        1243.0  6059.0           NaN            NaN   \n",
       "3                        2376.0  6037.0           NaN            NaN   \n",
       "4                        1312.0  6037.0           NaN            NaN   \n",
       "\n",
       "   garagecarcnt  garagetotalsqft  hashottuborspa    latitude    longitude  \\\n",
       "0           2.0            633.0             NaN  33634931.0 -117869207.0   \n",
       "1           1.0              0.0             NaN  34449266.0 -119281531.0   \n",
       "2           2.0            440.0             NaN  33886168.0 -117823170.0   \n",
       "3           NaN              NaN             NaN  34245180.0 -118240722.0   \n",
       "4           NaN              NaN             NaN  34185120.0 -118414640.0   \n",
       "\n",
       "   lotsizesquarefeet  poolcnt  poolsizesum propertycountylandusecode  \\\n",
       "0             4506.0      NaN          NaN                       122   \n",
       "1            12647.0      NaN          NaN                      1110   \n",
       "2             8432.0      1.0          NaN                       122   \n",
       "3            13038.0      1.0          NaN                      0101   \n",
       "4           278581.0      1.0          NaN                      010C   \n",
       "\n",
       "   propertylandusetypeid        propertylandusedesc propertyzoningdesc  \\\n",
       "0                  261.0  Single Family Residential                NaN   \n",
       "1                  261.0  Single Family Residential                NaN   \n",
       "2                  261.0  Single Family Residential                NaN   \n",
       "3                  261.0  Single Family Residential         LCR110000*   \n",
       "4                  266.0                Condominium               LAR3   \n",
       "\n",
       "   rawcensustractandblock  regionidcity  regionidcounty  regionidneighborhood  \\\n",
       "0            6.059063e+07       53571.0          1286.0                   NaN   \n",
       "1            6.111001e+07       13091.0          2061.0                   NaN   \n",
       "2            6.059022e+07       21412.0          1286.0                   NaN   \n",
       "3            6.037300e+07      396551.0          3101.0                   NaN   \n",
       "4            6.037124e+07       12447.0          3101.0              268548.0   \n",
       "\n",
       "   roomcnt  threequarterbathnbr  typeconstructiontypeid typeconstructiondesc  \\\n",
       "0      0.0                  1.0                     NaN                  NaN   \n",
       "1      5.0                  NaN                     NaN                  NaN   \n",
       "2      6.0                  NaN                     NaN                  NaN   \n",
       "3      0.0                  NaN                     NaN                  NaN   \n",
       "4      0.0                  NaN                     NaN                  NaN   \n",
       "\n",
       "   unitcnt  yearbuilt  numberofstories  structuretaxvaluedollarcnt  \\\n",
       "0      NaN     1998.0              NaN                    485713.0   \n",
       "1      NaN     1967.0              1.0                     88000.0   \n",
       "2      NaN     1962.0              1.0                     85289.0   \n",
       "3      1.0     1970.0              NaN                    108918.0   \n",
       "4      1.0     1964.0              NaN                     73681.0   \n",
       "\n",
       "   taxvaluedollarcnt  assessmentyear  landtaxvaluedollarcnt  taxamount  \\\n",
       "0          1023282.0          2016.0               537569.0   11013.72   \n",
       "1           464000.0          2016.0               376000.0    5672.48   \n",
       "2           564778.0          2016.0               479489.0    6488.30   \n",
       "3           145143.0          2016.0                36225.0    1777.51   \n",
       "4           119407.0          2016.0                45726.0    1533.89   \n",
       "\n",
       "   censustractandblock  logerror transactiondate  \n",
       "0         6.059063e+13  0.025595      2017-01-01  \n",
       "1         6.111001e+13  0.055619      2017-01-01  \n",
       "2         6.059022e+13  0.005383      2017-01-01  \n",
       "3         6.037300e+13 -0.103410      2017-01-01  \n",
       "4         6.037124e+13  0.006940      2017-01-01  "
      ]
     },
     "execution_count": 5,
     "metadata": {},
     "output_type": "execute_result"
    }
   ],
   "source": [
    "zillow.head()"
   ]
  },
  {
   "cell_type": "markdown",
   "id": "3924eb93",
   "metadata": {},
   "source": [
    "#### 2. Summarize your data (summary stats, info, dtypes, shape, distributions, value_counts, etc.)"
   ]
  },
  {
   "cell_type": "code",
   "execution_count": 6,
   "id": "a531b78a",
   "metadata": {},
   "outputs": [
    {
     "name": "stdout",
     "output_type": "stream",
     "text": [
      "<class 'pandas.core.frame.DataFrame'>\n",
      "Int64Index: 77380 entries, 0 to 77379\n",
      "Data columns (total 46 columns):\n",
      " #   Column                        Non-Null Count  Dtype  \n",
      "---  ------                        --------------  -----  \n",
      " 0   parcelid                      77380 non-null  int64  \n",
      " 1   airconditioningtypeid         24953 non-null  float64\n",
      " 2   airconditioningdesc           24953 non-null  object \n",
      " 3   architecturalstyletypeid      206 non-null    float64\n",
      " 4   architecturalstyledesc        206 non-null    object \n",
      " 5   bathroomcnt                   77380 non-null  float64\n",
      " 6   bedroomcnt                    77380 non-null  float64\n",
      " 7   buildingclasstypeid           15 non-null     float64\n",
      " 8   buildingclassdesc             15 non-null     object \n",
      " 9   buildingqualitytypeid         49671 non-null  float64\n",
      " 10  decktypeid                    614 non-null    float64\n",
      " 11  calculatedfinishedsquarefeet  77184 non-null  float64\n",
      " 12  fips                          77380 non-null  float64\n",
      " 13  fireplacecnt                  8276 non-null   float64\n",
      " 14  fireplaceflag                 172 non-null    float64\n",
      " 15  garagecarcnt                  25474 non-null  float64\n",
      " 16  garagetotalsqft               25474 non-null  float64\n",
      " 17  hashottuborspa                1538 non-null   float64\n",
      " 18  latitude                      77380 non-null  float64\n",
      " 19  longitude                     77380 non-null  float64\n",
      " 20  lotsizesquarefeet             69141 non-null  float64\n",
      " 21  poolcnt                       16137 non-null  float64\n",
      " 22  poolsizesum                   867 non-null    float64\n",
      " 23  propertycountylandusecode     77380 non-null  object \n",
      " 24  propertylandusetypeid         77380 non-null  float64\n",
      " 25  propertylandusedesc           77380 non-null  object \n",
      " 26  propertyzoningdesc            50330 non-null  object \n",
      " 27  rawcensustractandblock        77380 non-null  float64\n",
      " 28  regionidcity                  75909 non-null  float64\n",
      " 29  regionidcounty                77380 non-null  float64\n",
      " 30  regionidneighborhood          30890 non-null  float64\n",
      " 31  roomcnt                       77380 non-null  float64\n",
      " 32  threequarterbathnbr           10096 non-null  float64\n",
      " 33  typeconstructiontypeid        222 non-null    float64\n",
      " 34  typeconstructiondesc          222 non-null    object \n",
      " 35  unitcnt                       50562 non-null  float64\n",
      " 36  yearbuilt                     77117 non-null  float64\n",
      " 37  numberofstories               17560 non-null  float64\n",
      " 38  structuretaxvaluedollarcnt    77268 non-null  float64\n",
      " 39  taxvaluedollarcnt             77379 non-null  float64\n",
      " 40  assessmentyear                77380 non-null  float64\n",
      " 41  landtaxvaluedollarcnt         77378 non-null  float64\n",
      " 42  taxamount                     77375 non-null  float64\n",
      " 43  censustractandblock           77136 non-null  float64\n",
      " 44  logerror                      77380 non-null  float64\n",
      " 45  transactiondate               77380 non-null  object \n",
      "dtypes: float64(37), int64(1), object(8)\n",
      "memory usage: 27.7+ MB\n"
     ]
    }
   ],
   "source": [
    "zillow.info()"
   ]
  },
  {
   "cell_type": "code",
   "execution_count": 7,
   "id": "75af0e1a",
   "metadata": {},
   "outputs": [
    {
     "data": {
      "text/plain": [
       "(77380, 46)"
      ]
     },
     "execution_count": 7,
     "metadata": {},
     "output_type": "execute_result"
    }
   ],
   "source": [
    "zillow.shape"
   ]
  },
  {
   "cell_type": "code",
   "execution_count": 8,
   "id": "bdd01dc9",
   "metadata": {},
   "outputs": [
    {
     "data": {
      "text/html": [
       "<div>\n",
       "<style scoped>\n",
       "    .dataframe tbody tr th:only-of-type {\n",
       "        vertical-align: middle;\n",
       "    }\n",
       "\n",
       "    .dataframe tbody tr th {\n",
       "        vertical-align: top;\n",
       "    }\n",
       "\n",
       "    .dataframe thead th {\n",
       "        text-align: right;\n",
       "    }\n",
       "</style>\n",
       "<table border=\"1\" class=\"dataframe\">\n",
       "  <thead>\n",
       "    <tr style=\"text-align: right;\">\n",
       "      <th></th>\n",
       "      <th>count</th>\n",
       "      <th>mean</th>\n",
       "      <th>std</th>\n",
       "      <th>min</th>\n",
       "      <th>25%</th>\n",
       "      <th>50%</th>\n",
       "      <th>75%</th>\n",
       "      <th>max</th>\n",
       "    </tr>\n",
       "  </thead>\n",
       "  <tbody>\n",
       "    <tr>\n",
       "      <th>parcelid</th>\n",
       "      <td>77380.0</td>\n",
       "      <td>1.300715e+07</td>\n",
       "      <td>3.481368e+06</td>\n",
       "      <td>1.071186e+07</td>\n",
       "      <td>1.153830e+07</td>\n",
       "      <td>1.253155e+07</td>\n",
       "      <td>1.421184e+07</td>\n",
       "      <td>1.676893e+08</td>\n",
       "    </tr>\n",
       "    <tr>\n",
       "      <th>airconditioningtypeid</th>\n",
       "      <td>24953.0</td>\n",
       "      <td>1.813289e+00</td>\n",
       "      <td>2.967894e+00</td>\n",
       "      <td>1.000000e+00</td>\n",
       "      <td>1.000000e+00</td>\n",
       "      <td>1.000000e+00</td>\n",
       "      <td>1.000000e+00</td>\n",
       "      <td>1.300000e+01</td>\n",
       "    </tr>\n",
       "    <tr>\n",
       "      <th>architecturalstyletypeid</th>\n",
       "      <td>206.0</td>\n",
       "      <td>7.388350e+00</td>\n",
       "      <td>2.734542e+00</td>\n",
       "      <td>2.000000e+00</td>\n",
       "      <td>7.000000e+00</td>\n",
       "      <td>7.000000e+00</td>\n",
       "      <td>7.000000e+00</td>\n",
       "      <td>2.100000e+01</td>\n",
       "    </tr>\n",
       "    <tr>\n",
       "      <th>bathroomcnt</th>\n",
       "      <td>77380.0</td>\n",
       "      <td>2.299134e+00</td>\n",
       "      <td>9.966566e-01</td>\n",
       "      <td>0.000000e+00</td>\n",
       "      <td>2.000000e+00</td>\n",
       "      <td>2.000000e+00</td>\n",
       "      <td>3.000000e+00</td>\n",
       "      <td>1.800000e+01</td>\n",
       "    </tr>\n",
       "    <tr>\n",
       "      <th>bedroomcnt</th>\n",
       "      <td>77380.0</td>\n",
       "      <td>3.053489e+00</td>\n",
       "      <td>1.139103e+00</td>\n",
       "      <td>0.000000e+00</td>\n",
       "      <td>2.000000e+00</td>\n",
       "      <td>3.000000e+00</td>\n",
       "      <td>4.000000e+00</td>\n",
       "      <td>1.600000e+01</td>\n",
       "    </tr>\n",
       "    <tr>\n",
       "      <th>buildingclasstypeid</th>\n",
       "      <td>15.0</td>\n",
       "      <td>3.933333e+00</td>\n",
       "      <td>2.581989e-01</td>\n",
       "      <td>3.000000e+00</td>\n",
       "      <td>4.000000e+00</td>\n",
       "      <td>4.000000e+00</td>\n",
       "      <td>4.000000e+00</td>\n",
       "      <td>4.000000e+00</td>\n",
       "    </tr>\n",
       "    <tr>\n",
       "      <th>buildingqualitytypeid</th>\n",
       "      <td>49671.0</td>\n",
       "      <td>6.534638e+00</td>\n",
       "      <td>1.721933e+00</td>\n",
       "      <td>1.000000e+00</td>\n",
       "      <td>6.000000e+00</td>\n",
       "      <td>6.000000e+00</td>\n",
       "      <td>8.000000e+00</td>\n",
       "      <td>1.200000e+01</td>\n",
       "    </tr>\n",
       "    <tr>\n",
       "      <th>decktypeid</th>\n",
       "      <td>614.0</td>\n",
       "      <td>6.600000e+01</td>\n",
       "      <td>0.000000e+00</td>\n",
       "      <td>6.600000e+01</td>\n",
       "      <td>6.600000e+01</td>\n",
       "      <td>6.600000e+01</td>\n",
       "      <td>6.600000e+01</td>\n",
       "      <td>6.600000e+01</td>\n",
       "    </tr>\n",
       "    <tr>\n",
       "      <th>calculatedfinishedsquarefeet</th>\n",
       "      <td>77184.0</td>\n",
       "      <td>1.785229e+03</td>\n",
       "      <td>9.540518e+02</td>\n",
       "      <td>1.280000e+02</td>\n",
       "      <td>1.182000e+03</td>\n",
       "      <td>1.543000e+03</td>\n",
       "      <td>2.113000e+03</td>\n",
       "      <td>3.564000e+04</td>\n",
       "    </tr>\n",
       "    <tr>\n",
       "      <th>fips</th>\n",
       "      <td>77380.0</td>\n",
       "      <td>6.048819e+03</td>\n",
       "      <td>2.074829e+01</td>\n",
       "      <td>6.037000e+03</td>\n",
       "      <td>6.037000e+03</td>\n",
       "      <td>6.037000e+03</td>\n",
       "      <td>6.059000e+03</td>\n",
       "      <td>6.111000e+03</td>\n",
       "    </tr>\n",
       "    <tr>\n",
       "      <th>fireplacecnt</th>\n",
       "      <td>8276.0</td>\n",
       "      <td>1.191155e+00</td>\n",
       "      <td>4.910796e-01</td>\n",
       "      <td>1.000000e+00</td>\n",
       "      <td>1.000000e+00</td>\n",
       "      <td>1.000000e+00</td>\n",
       "      <td>1.000000e+00</td>\n",
       "      <td>5.000000e+00</td>\n",
       "    </tr>\n",
       "    <tr>\n",
       "      <th>fireplaceflag</th>\n",
       "      <td>172.0</td>\n",
       "      <td>1.000000e+00</td>\n",
       "      <td>0.000000e+00</td>\n",
       "      <td>1.000000e+00</td>\n",
       "      <td>1.000000e+00</td>\n",
       "      <td>1.000000e+00</td>\n",
       "      <td>1.000000e+00</td>\n",
       "      <td>1.000000e+00</td>\n",
       "    </tr>\n",
       "    <tr>\n",
       "      <th>garagecarcnt</th>\n",
       "      <td>25474.0</td>\n",
       "      <td>1.815459e+00</td>\n",
       "      <td>5.883449e-01</td>\n",
       "      <td>0.000000e+00</td>\n",
       "      <td>2.000000e+00</td>\n",
       "      <td>2.000000e+00</td>\n",
       "      <td>2.000000e+00</td>\n",
       "      <td>1.400000e+01</td>\n",
       "    </tr>\n",
       "    <tr>\n",
       "      <th>garagetotalsqft</th>\n",
       "      <td>25474.0</td>\n",
       "      <td>3.501120e+02</td>\n",
       "      <td>2.616816e+02</td>\n",
       "      <td>0.000000e+00</td>\n",
       "      <td>0.000000e+00</td>\n",
       "      <td>4.360000e+02</td>\n",
       "      <td>4.930000e+02</td>\n",
       "      <td>4.251000e+03</td>\n",
       "    </tr>\n",
       "    <tr>\n",
       "      <th>hashottuborspa</th>\n",
       "      <td>1538.0</td>\n",
       "      <td>1.000000e+00</td>\n",
       "      <td>0.000000e+00</td>\n",
       "      <td>1.000000e+00</td>\n",
       "      <td>1.000000e+00</td>\n",
       "      <td>1.000000e+00</td>\n",
       "      <td>1.000000e+00</td>\n",
       "      <td>1.000000e+00</td>\n",
       "    </tr>\n",
       "    <tr>\n",
       "      <th>latitude</th>\n",
       "      <td>77380.0</td>\n",
       "      <td>3.400837e+07</td>\n",
       "      <td>2.653905e+05</td>\n",
       "      <td>3.333953e+07</td>\n",
       "      <td>3.381457e+07</td>\n",
       "      <td>3.402200e+07</td>\n",
       "      <td>3.417439e+07</td>\n",
       "      <td>3.481877e+07</td>\n",
       "    </tr>\n",
       "    <tr>\n",
       "      <th>longitude</th>\n",
       "      <td>77380.0</td>\n",
       "      <td>-1.182036e+08</td>\n",
       "      <td>3.594833e+05</td>\n",
       "      <td>-1.194754e+08</td>\n",
       "      <td>-1.184153e+08</td>\n",
       "      <td>-1.181808e+08</td>\n",
       "      <td>-1.179284e+08</td>\n",
       "      <td>-1.175546e+08</td>\n",
       "    </tr>\n",
       "    <tr>\n",
       "      <th>lotsizesquarefeet</th>\n",
       "      <td>69141.0</td>\n",
       "      <td>2.996963e+04</td>\n",
       "      <td>1.233719e+05</td>\n",
       "      <td>2.360000e+02</td>\n",
       "      <td>5.700000e+03</td>\n",
       "      <td>7.206000e+03</td>\n",
       "      <td>1.183100e+04</td>\n",
       "      <td>6.971010e+06</td>\n",
       "    </tr>\n",
       "    <tr>\n",
       "      <th>poolcnt</th>\n",
       "      <td>16137.0</td>\n",
       "      <td>1.000000e+00</td>\n",
       "      <td>0.000000e+00</td>\n",
       "      <td>1.000000e+00</td>\n",
       "      <td>1.000000e+00</td>\n",
       "      <td>1.000000e+00</td>\n",
       "      <td>1.000000e+00</td>\n",
       "      <td>1.000000e+00</td>\n",
       "    </tr>\n",
       "    <tr>\n",
       "      <th>poolsizesum</th>\n",
       "      <td>867.0</td>\n",
       "      <td>5.179170e+02</td>\n",
       "      <td>1.567160e+02</td>\n",
       "      <td>2.400000e+01</td>\n",
       "      <td>4.240000e+02</td>\n",
       "      <td>5.000000e+02</td>\n",
       "      <td>6.000000e+02</td>\n",
       "      <td>1.500000e+03</td>\n",
       "    </tr>\n",
       "    <tr>\n",
       "      <th>propertylandusetypeid</th>\n",
       "      <td>77380.0</td>\n",
       "      <td>2.618264e+02</td>\n",
       "      <td>5.141231e+00</td>\n",
       "      <td>3.100000e+01</td>\n",
       "      <td>2.610000e+02</td>\n",
       "      <td>2.610000e+02</td>\n",
       "      <td>2.660000e+02</td>\n",
       "      <td>2.750000e+02</td>\n",
       "    </tr>\n",
       "    <tr>\n",
       "      <th>rawcensustractandblock</th>\n",
       "      <td>77380.0</td>\n",
       "      <td>6.049130e+07</td>\n",
       "      <td>2.059061e+05</td>\n",
       "      <td>6.037101e+07</td>\n",
       "      <td>6.037311e+07</td>\n",
       "      <td>6.037603e+07</td>\n",
       "      <td>6.059042e+07</td>\n",
       "      <td>6.111009e+07</td>\n",
       "    </tr>\n",
       "    <tr>\n",
       "      <th>regionidcity</th>\n",
       "      <td>75909.0</td>\n",
       "      <td>3.367013e+04</td>\n",
       "      <td>4.716913e+04</td>\n",
       "      <td>3.491000e+03</td>\n",
       "      <td>1.244700e+04</td>\n",
       "      <td>2.521800e+04</td>\n",
       "      <td>4.545700e+04</td>\n",
       "      <td>3.965560e+05</td>\n",
       "    </tr>\n",
       "    <tr>\n",
       "      <th>regionidcounty</th>\n",
       "      <td>77380.0</td>\n",
       "      <td>2.534151e+03</td>\n",
       "      <td>8.015959e+02</td>\n",
       "      <td>1.286000e+03</td>\n",
       "      <td>1.286000e+03</td>\n",
       "      <td>3.101000e+03</td>\n",
       "      <td>3.101000e+03</td>\n",
       "      <td>3.101000e+03</td>\n",
       "    </tr>\n",
       "    <tr>\n",
       "      <th>regionidneighborhood</th>\n",
       "      <td>30890.0</td>\n",
       "      <td>1.877349e+05</td>\n",
       "      <td>1.651188e+05</td>\n",
       "      <td>6.952000e+03</td>\n",
       "      <td>4.673600e+04</td>\n",
       "      <td>1.188490e+05</td>\n",
       "      <td>2.747650e+05</td>\n",
       "      <td>7.641670e+05</td>\n",
       "    </tr>\n",
       "    <tr>\n",
       "      <th>roomcnt</th>\n",
       "      <td>77380.0</td>\n",
       "      <td>1.476971e+00</td>\n",
       "      <td>2.824399e+00</td>\n",
       "      <td>0.000000e+00</td>\n",
       "      <td>0.000000e+00</td>\n",
       "      <td>0.000000e+00</td>\n",
       "      <td>0.000000e+00</td>\n",
       "      <td>1.500000e+01</td>\n",
       "    </tr>\n",
       "    <tr>\n",
       "      <th>threequarterbathnbr</th>\n",
       "      <td>10096.0</td>\n",
       "      <td>1.009608e+00</td>\n",
       "      <td>1.186301e-01</td>\n",
       "      <td>1.000000e+00</td>\n",
       "      <td>1.000000e+00</td>\n",
       "      <td>1.000000e+00</td>\n",
       "      <td>1.000000e+00</td>\n",
       "      <td>7.000000e+00</td>\n",
       "    </tr>\n",
       "    <tr>\n",
       "      <th>typeconstructiontypeid</th>\n",
       "      <td>222.0</td>\n",
       "      <td>6.040541e+00</td>\n",
       "      <td>5.572847e-01</td>\n",
       "      <td>4.000000e+00</td>\n",
       "      <td>6.000000e+00</td>\n",
       "      <td>6.000000e+00</td>\n",
       "      <td>6.000000e+00</td>\n",
       "      <td>1.300000e+01</td>\n",
       "    </tr>\n",
       "    <tr>\n",
       "      <th>unitcnt</th>\n",
       "      <td>50562.0</td>\n",
       "      <td>1.110023e+00</td>\n",
       "      <td>1.171166e+00</td>\n",
       "      <td>1.000000e+00</td>\n",
       "      <td>1.000000e+00</td>\n",
       "      <td>1.000000e+00</td>\n",
       "      <td>1.000000e+00</td>\n",
       "      <td>2.370000e+02</td>\n",
       "    </tr>\n",
       "    <tr>\n",
       "      <th>yearbuilt</th>\n",
       "      <td>77117.0</td>\n",
       "      <td>1.968636e+03</td>\n",
       "      <td>2.378617e+01</td>\n",
       "      <td>1.824000e+03</td>\n",
       "      <td>1.953000e+03</td>\n",
       "      <td>1.970000e+03</td>\n",
       "      <td>1.987000e+03</td>\n",
       "      <td>2.016000e+03</td>\n",
       "    </tr>\n",
       "    <tr>\n",
       "      <th>numberofstories</th>\n",
       "      <td>17560.0</td>\n",
       "      <td>1.434738e+00</td>\n",
       "      <td>5.445687e-01</td>\n",
       "      <td>1.000000e+00</td>\n",
       "      <td>1.000000e+00</td>\n",
       "      <td>1.000000e+00</td>\n",
       "      <td>2.000000e+00</td>\n",
       "      <td>6.000000e+00</td>\n",
       "    </tr>\n",
       "    <tr>\n",
       "      <th>structuretaxvaluedollarcnt</th>\n",
       "      <td>77268.0</td>\n",
       "      <td>1.893160e+05</td>\n",
       "      <td>2.300886e+05</td>\n",
       "      <td>4.400000e+01</td>\n",
       "      <td>8.426500e+04</td>\n",
       "      <td>1.364995e+05</td>\n",
       "      <td>2.187875e+05</td>\n",
       "      <td>1.142179e+07</td>\n",
       "    </tr>\n",
       "    <tr>\n",
       "      <th>taxvaluedollarcnt</th>\n",
       "      <td>77379.0</td>\n",
       "      <td>4.901375e+05</td>\n",
       "      <td>6.534477e+05</td>\n",
       "      <td>1.000000e+03</td>\n",
       "      <td>2.070000e+05</td>\n",
       "      <td>3.589760e+05</td>\n",
       "      <td>5.690030e+05</td>\n",
       "      <td>4.906124e+07</td>\n",
       "    </tr>\n",
       "    <tr>\n",
       "      <th>assessmentyear</th>\n",
       "      <td>77380.0</td>\n",
       "      <td>2.016000e+03</td>\n",
       "      <td>0.000000e+00</td>\n",
       "      <td>2.016000e+03</td>\n",
       "      <td>2.016000e+03</td>\n",
       "      <td>2.016000e+03</td>\n",
       "      <td>2.016000e+03</td>\n",
       "      <td>2.016000e+03</td>\n",
       "    </tr>\n",
       "    <tr>\n",
       "      <th>landtaxvaluedollarcnt</th>\n",
       "      <td>77378.0</td>\n",
       "      <td>3.010969e+05</td>\n",
       "      <td>4.925990e+05</td>\n",
       "      <td>1.610000e+02</td>\n",
       "      <td>8.550400e+04</td>\n",
       "      <td>2.033835e+05</td>\n",
       "      <td>3.668022e+05</td>\n",
       "      <td>4.895220e+07</td>\n",
       "    </tr>\n",
       "    <tr>\n",
       "      <th>taxamount</th>\n",
       "      <td>77375.0</td>\n",
       "      <td>5.995567e+03</td>\n",
       "      <td>7.622887e+03</td>\n",
       "      <td>1.992000e+01</td>\n",
       "      <td>2.715585e+03</td>\n",
       "      <td>4.450720e+03</td>\n",
       "      <td>6.927800e+03</td>\n",
       "      <td>5.866393e+05</td>\n",
       "    </tr>\n",
       "    <tr>\n",
       "      <th>censustractandblock</th>\n",
       "      <td>77136.0</td>\n",
       "      <td>6.049674e+13</td>\n",
       "      <td>1.535252e+12</td>\n",
       "      <td>6.037101e+13</td>\n",
       "      <td>6.037311e+13</td>\n",
       "      <td>6.037603e+13</td>\n",
       "      <td>6.059042e+13</td>\n",
       "      <td>4.830301e+14</td>\n",
       "    </tr>\n",
       "    <tr>\n",
       "      <th>logerror</th>\n",
       "      <td>77380.0</td>\n",
       "      <td>1.662776e-02</td>\n",
       "      <td>1.701902e-01</td>\n",
       "      <td>-4.655420e+00</td>\n",
       "      <td>-2.437675e-02</td>\n",
       "      <td>6.627250e-03</td>\n",
       "      <td>3.920424e-02</td>\n",
       "      <td>5.262999e+00</td>\n",
       "    </tr>\n",
       "  </tbody>\n",
       "</table>\n",
       "</div>"
      ],
      "text/plain": [
       "                                count          mean           std  \\\n",
       "parcelid                      77380.0  1.300715e+07  3.481368e+06   \n",
       "airconditioningtypeid         24953.0  1.813289e+00  2.967894e+00   \n",
       "architecturalstyletypeid        206.0  7.388350e+00  2.734542e+00   \n",
       "bathroomcnt                   77380.0  2.299134e+00  9.966566e-01   \n",
       "bedroomcnt                    77380.0  3.053489e+00  1.139103e+00   \n",
       "buildingclasstypeid              15.0  3.933333e+00  2.581989e-01   \n",
       "buildingqualitytypeid         49671.0  6.534638e+00  1.721933e+00   \n",
       "decktypeid                      614.0  6.600000e+01  0.000000e+00   \n",
       "calculatedfinishedsquarefeet  77184.0  1.785229e+03  9.540518e+02   \n",
       "fips                          77380.0  6.048819e+03  2.074829e+01   \n",
       "fireplacecnt                   8276.0  1.191155e+00  4.910796e-01   \n",
       "fireplaceflag                   172.0  1.000000e+00  0.000000e+00   \n",
       "garagecarcnt                  25474.0  1.815459e+00  5.883449e-01   \n",
       "garagetotalsqft               25474.0  3.501120e+02  2.616816e+02   \n",
       "hashottuborspa                 1538.0  1.000000e+00  0.000000e+00   \n",
       "latitude                      77380.0  3.400837e+07  2.653905e+05   \n",
       "longitude                     77380.0 -1.182036e+08  3.594833e+05   \n",
       "lotsizesquarefeet             69141.0  2.996963e+04  1.233719e+05   \n",
       "poolcnt                       16137.0  1.000000e+00  0.000000e+00   \n",
       "poolsizesum                     867.0  5.179170e+02  1.567160e+02   \n",
       "propertylandusetypeid         77380.0  2.618264e+02  5.141231e+00   \n",
       "rawcensustractandblock        77380.0  6.049130e+07  2.059061e+05   \n",
       "regionidcity                  75909.0  3.367013e+04  4.716913e+04   \n",
       "regionidcounty                77380.0  2.534151e+03  8.015959e+02   \n",
       "regionidneighborhood          30890.0  1.877349e+05  1.651188e+05   \n",
       "roomcnt                       77380.0  1.476971e+00  2.824399e+00   \n",
       "threequarterbathnbr           10096.0  1.009608e+00  1.186301e-01   \n",
       "typeconstructiontypeid          222.0  6.040541e+00  5.572847e-01   \n",
       "unitcnt                       50562.0  1.110023e+00  1.171166e+00   \n",
       "yearbuilt                     77117.0  1.968636e+03  2.378617e+01   \n",
       "numberofstories               17560.0  1.434738e+00  5.445687e-01   \n",
       "structuretaxvaluedollarcnt    77268.0  1.893160e+05  2.300886e+05   \n",
       "taxvaluedollarcnt             77379.0  4.901375e+05  6.534477e+05   \n",
       "assessmentyear                77380.0  2.016000e+03  0.000000e+00   \n",
       "landtaxvaluedollarcnt         77378.0  3.010969e+05  4.925990e+05   \n",
       "taxamount                     77375.0  5.995567e+03  7.622887e+03   \n",
       "censustractandblock           77136.0  6.049674e+13  1.535252e+12   \n",
       "logerror                      77380.0  1.662776e-02  1.701902e-01   \n",
       "\n",
       "                                       min           25%           50%  \\\n",
       "parcelid                      1.071186e+07  1.153830e+07  1.253155e+07   \n",
       "airconditioningtypeid         1.000000e+00  1.000000e+00  1.000000e+00   \n",
       "architecturalstyletypeid      2.000000e+00  7.000000e+00  7.000000e+00   \n",
       "bathroomcnt                   0.000000e+00  2.000000e+00  2.000000e+00   \n",
       "bedroomcnt                    0.000000e+00  2.000000e+00  3.000000e+00   \n",
       "buildingclasstypeid           3.000000e+00  4.000000e+00  4.000000e+00   \n",
       "buildingqualitytypeid         1.000000e+00  6.000000e+00  6.000000e+00   \n",
       "decktypeid                    6.600000e+01  6.600000e+01  6.600000e+01   \n",
       "calculatedfinishedsquarefeet  1.280000e+02  1.182000e+03  1.543000e+03   \n",
       "fips                          6.037000e+03  6.037000e+03  6.037000e+03   \n",
       "fireplacecnt                  1.000000e+00  1.000000e+00  1.000000e+00   \n",
       "fireplaceflag                 1.000000e+00  1.000000e+00  1.000000e+00   \n",
       "garagecarcnt                  0.000000e+00  2.000000e+00  2.000000e+00   \n",
       "garagetotalsqft               0.000000e+00  0.000000e+00  4.360000e+02   \n",
       "hashottuborspa                1.000000e+00  1.000000e+00  1.000000e+00   \n",
       "latitude                      3.333953e+07  3.381457e+07  3.402200e+07   \n",
       "longitude                    -1.194754e+08 -1.184153e+08 -1.181808e+08   \n",
       "lotsizesquarefeet             2.360000e+02  5.700000e+03  7.206000e+03   \n",
       "poolcnt                       1.000000e+00  1.000000e+00  1.000000e+00   \n",
       "poolsizesum                   2.400000e+01  4.240000e+02  5.000000e+02   \n",
       "propertylandusetypeid         3.100000e+01  2.610000e+02  2.610000e+02   \n",
       "rawcensustractandblock        6.037101e+07  6.037311e+07  6.037603e+07   \n",
       "regionidcity                  3.491000e+03  1.244700e+04  2.521800e+04   \n",
       "regionidcounty                1.286000e+03  1.286000e+03  3.101000e+03   \n",
       "regionidneighborhood          6.952000e+03  4.673600e+04  1.188490e+05   \n",
       "roomcnt                       0.000000e+00  0.000000e+00  0.000000e+00   \n",
       "threequarterbathnbr           1.000000e+00  1.000000e+00  1.000000e+00   \n",
       "typeconstructiontypeid        4.000000e+00  6.000000e+00  6.000000e+00   \n",
       "unitcnt                       1.000000e+00  1.000000e+00  1.000000e+00   \n",
       "yearbuilt                     1.824000e+03  1.953000e+03  1.970000e+03   \n",
       "numberofstories               1.000000e+00  1.000000e+00  1.000000e+00   \n",
       "structuretaxvaluedollarcnt    4.400000e+01  8.426500e+04  1.364995e+05   \n",
       "taxvaluedollarcnt             1.000000e+03  2.070000e+05  3.589760e+05   \n",
       "assessmentyear                2.016000e+03  2.016000e+03  2.016000e+03   \n",
       "landtaxvaluedollarcnt         1.610000e+02  8.550400e+04  2.033835e+05   \n",
       "taxamount                     1.992000e+01  2.715585e+03  4.450720e+03   \n",
       "censustractandblock           6.037101e+13  6.037311e+13  6.037603e+13   \n",
       "logerror                     -4.655420e+00 -2.437675e-02  6.627250e-03   \n",
       "\n",
       "                                       75%           max  \n",
       "parcelid                      1.421184e+07  1.676893e+08  \n",
       "airconditioningtypeid         1.000000e+00  1.300000e+01  \n",
       "architecturalstyletypeid      7.000000e+00  2.100000e+01  \n",
       "bathroomcnt                   3.000000e+00  1.800000e+01  \n",
       "bedroomcnt                    4.000000e+00  1.600000e+01  \n",
       "buildingclasstypeid           4.000000e+00  4.000000e+00  \n",
       "buildingqualitytypeid         8.000000e+00  1.200000e+01  \n",
       "decktypeid                    6.600000e+01  6.600000e+01  \n",
       "calculatedfinishedsquarefeet  2.113000e+03  3.564000e+04  \n",
       "fips                          6.059000e+03  6.111000e+03  \n",
       "fireplacecnt                  1.000000e+00  5.000000e+00  \n",
       "fireplaceflag                 1.000000e+00  1.000000e+00  \n",
       "garagecarcnt                  2.000000e+00  1.400000e+01  \n",
       "garagetotalsqft               4.930000e+02  4.251000e+03  \n",
       "hashottuborspa                1.000000e+00  1.000000e+00  \n",
       "latitude                      3.417439e+07  3.481877e+07  \n",
       "longitude                    -1.179284e+08 -1.175546e+08  \n",
       "lotsizesquarefeet             1.183100e+04  6.971010e+06  \n",
       "poolcnt                       1.000000e+00  1.000000e+00  \n",
       "poolsizesum                   6.000000e+02  1.500000e+03  \n",
       "propertylandusetypeid         2.660000e+02  2.750000e+02  \n",
       "rawcensustractandblock        6.059042e+07  6.111009e+07  \n",
       "regionidcity                  4.545700e+04  3.965560e+05  \n",
       "regionidcounty                3.101000e+03  3.101000e+03  \n",
       "regionidneighborhood          2.747650e+05  7.641670e+05  \n",
       "roomcnt                       0.000000e+00  1.500000e+01  \n",
       "threequarterbathnbr           1.000000e+00  7.000000e+00  \n",
       "typeconstructiontypeid        6.000000e+00  1.300000e+01  \n",
       "unitcnt                       1.000000e+00  2.370000e+02  \n",
       "yearbuilt                     1.987000e+03  2.016000e+03  \n",
       "numberofstories               2.000000e+00  6.000000e+00  \n",
       "structuretaxvaluedollarcnt    2.187875e+05  1.142179e+07  \n",
       "taxvaluedollarcnt             5.690030e+05  4.906124e+07  \n",
       "assessmentyear                2.016000e+03  2.016000e+03  \n",
       "landtaxvaluedollarcnt         3.668022e+05  4.895220e+07  \n",
       "taxamount                     6.927800e+03  5.866393e+05  \n",
       "censustractandblock           6.059042e+13  4.830301e+14  \n",
       "logerror                      3.920424e-02  5.262999e+00  "
      ]
     },
     "execution_count": 8,
     "metadata": {},
     "output_type": "execute_result"
    }
   ],
   "source": [
    "zillow.describe().T"
   ]
  },
  {
   "cell_type": "code",
   "execution_count": 9,
   "id": "cb077396",
   "metadata": {},
   "outputs": [
    {
     "name": "stdout",
     "output_type": "stream",
     "text": [
      "column name : airconditioningdesc\n",
      "Central          23133\n",
      "Yes               1574\n",
      "None               167\n",
      "Wall Unit           53\n",
      "Refrigeration       26\n",
      "Name: airconditioningdesc, dtype: int64\n",
      "\n",
      "column name : architecturalstyledesc\n",
      "Contemporary     172\n",
      "Conventional      19\n",
      "Ranch/Rambler      7\n",
      "Bungalow           5\n",
      "Cape Cod           3\n",
      "Name: architecturalstyledesc, dtype: int64\n",
      "\n",
      "column name : buildingclassdesc\n",
      "Buildings having wood or wood and steel frames                                                                                                                                                                                             14\n",
      "Buildings having exterior walls built of a non-combustible material such as brick, concrete, block or poured concrete. Interior partitions and roof structures are built of combustible materials. Floor may be concrete or wood frame.     1\n",
      "Name: buildingclassdesc, dtype: int64\n",
      "\n",
      "column name : propertycountylandusecode\n",
      "0100    26713\n",
      "122     13045\n",
      "010C     8813\n",
      "0101     6399\n",
      "34       4922\n",
      "1111     3353\n",
      "1        2393\n",
      "010E     2047\n",
      "010D     1943\n",
      "0200     1835\n",
      "1129     1378\n",
      "1110     1024\n",
      "0400      620\n",
      "0300      481\n",
      "012C      384\n",
      "0104      367\n",
      "1128      333\n",
      "01DC      211\n",
      "01HC      137\n",
      "38         94\n",
      "010G       93\n",
      "96         91\n",
      "0103       91\n",
      "010H       64\n",
      "0108       57\n",
      "1117       55\n",
      "010M       52\n",
      "0700       50\n",
      "1210       42\n",
      "010V       39\n",
      "135        38\n",
      "010F       29\n",
      "0201       23\n",
      "0109       18\n",
      "1222       16\n",
      "01HE       11\n",
      "1116       10\n",
      "73          9\n",
      "1112        8\n",
      "1310        8\n",
      "1720        7\n",
      "0110        6\n",
      "0113        6\n",
      "070D        5\n",
      "1410        5\n",
      "012E        5\n",
      "0401        4\n",
      "0141        4\n",
      "0105        3\n",
      "1120        3\n",
      "1333        3\n",
      "0102        3\n",
      "0301        2\n",
      "040V        2\n",
      "0130        2\n",
      "1722        2\n",
      "1421        2\n",
      "1321        2\n",
      "0111        2\n",
      "020M        1\n",
      "020G        1\n",
      "105         1\n",
      "0204        1\n",
      "030G        1\n",
      "0203        1\n",
      "0114        1\n",
      "012D        1\n",
      "040B        1\n",
      "010L        1\n",
      "0133        1\n",
      "0115        1\n",
      "0131        1\n",
      "1432        1\n",
      "040G        1\n",
      "020E        1\n",
      "Name: propertycountylandusecode, dtype: int64\n",
      "\n",
      "column name : propertylandusedesc\n",
      "Single Family Residential                     52319\n",
      "Condominium                                   19294\n",
      "Duplex (2 Units, Any Combination)              2009\n",
      "Planned Unit Development                       1944\n",
      "Quadruplex (4 Units, Any Combination)           727\n",
      "Triplex (3 Units, Any Combination)              535\n",
      "Cluster Home                                    333\n",
      "Mobile Home                                      74\n",
      "Manufactured, Modular, Prefabricated Homes       58\n",
      "Residential General                              37\n",
      "Cooperative                                      29\n",
      "Commercial/Office/Residential Mixed Used         15\n",
      "Townhouse                                         6\n",
      "Name: propertylandusedesc, dtype: int64\n",
      "\n",
      "column name : propertyzoningdesc\n",
      "LAR1         6747\n",
      "LAR3         2437\n",
      "LARS         1389\n",
      "LBR1N        1222\n",
      "LARD1.5      1127\n",
      "             ... \n",
      "PSR47200*       1\n",
      "LBRR2I          1\n",
      "PD SP           1\n",
      "AVR2*           1\n",
      "BFA15000*       1\n",
      "Name: propertyzoningdesc, Length: 1907, dtype: int64\n",
      "\n",
      "column name : typeconstructiondesc\n",
      "Frame       219\n",
      "Masonry       1\n",
      "Metal         1\n",
      "Concrete      1\n",
      "Name: typeconstructiondesc, dtype: int64\n",
      "\n",
      "column name : transactiondate\n",
      "2017-06-30    1189\n",
      "2017-04-28     911\n",
      "2017-05-31     867\n",
      "2017-07-28     814\n",
      "2017-08-31     781\n",
      "2017-03-31     770\n",
      "2017-05-26     743\n",
      "2017-06-16     727\n",
      "2017-06-23     706\n",
      "2017-08-25     696\n",
      "2017-07-07     685\n",
      "2017-09-01     669\n",
      "2017-08-11     619\n",
      "2017-07-14     618\n",
      "2017-05-05     616\n",
      "2017-09-08     615\n",
      "2017-06-01     614\n",
      "2017-03-24     609\n",
      "2017-07-31     601\n",
      "2017-05-12     598\n",
      "2017-05-19     594\n",
      "2017-06-29     585\n",
      "2017-08-18     584\n",
      "2017-06-09     577\n",
      "2017-07-21     573\n",
      "2017-04-14     571\n",
      "2017-03-28     571\n",
      "2017-02-28     569\n",
      "2017-06-02     567\n",
      "2017-04-21     556\n",
      "2017-08-30     549\n",
      "2017-04-07     544\n",
      "2017-03-17     536\n",
      "2017-05-25     536\n",
      "2017-03-30     518\n",
      "2017-06-27     515\n",
      "2017-06-28     510\n",
      "2017-06-15     508\n",
      "2017-06-22     507\n",
      "2017-09-06     492\n",
      "2017-08-15     491\n",
      "2017-08-29     491\n",
      "2017-07-27     480\n",
      "2017-05-23     478\n",
      "2017-07-26     473\n",
      "2017-06-20     467\n",
      "2017-06-21     467\n",
      "2017-04-27     460\n",
      "2017-06-14     460\n",
      "2017-08-16     459\n",
      "2017-07-18     458\n",
      "2017-03-29     455\n",
      "2017-05-24     452\n",
      "2017-07-06     449\n",
      "2017-05-09     449\n",
      "2017-05-17     448\n",
      "2017-06-06     448\n",
      "2017-01-31     448\n",
      "2017-07-11     445\n",
      "2017-08-04     444\n",
      "2017-07-25     443\n",
      "2017-07-20     443\n",
      "2017-05-16     442\n",
      "2017-08-08     439\n",
      "2017-04-25     437\n",
      "2017-08-17     437\n",
      "2017-08-22     436\n",
      "2017-05-10     434\n",
      "2017-05-11     430\n",
      "2017-06-07     429\n",
      "2017-05-01     425\n",
      "2017-09-13     422\n",
      "2017-09-12     420\n",
      "2017-07-19     419\n",
      "2017-07-12     414\n",
      "2017-02-23     412\n",
      "2017-06-13     411\n",
      "2017-04-26     410\n",
      "2017-04-19     408\n",
      "2017-03-01     405\n",
      "2017-08-24     404\n",
      "2017-03-15     403\n",
      "2017-05-02     402\n",
      "2017-07-03     402\n",
      "2017-04-18     395\n",
      "2017-07-13     395\n",
      "2017-01-05     394\n",
      "2017-08-09     393\n",
      "2017-04-11     393\n",
      "2017-09-15     393\n",
      "2017-04-13     392\n",
      "2017-03-10     390\n",
      "2017-02-24     390\n",
      "2017-03-09     389\n",
      "2017-03-16     389\n",
      "2017-04-20     387\n",
      "2017-08-23     387\n",
      "2017-05-18     387\n",
      "2017-09-07     387\n",
      "2017-02-22     386\n",
      "2017-08-10     383\n",
      "2017-01-18     382\n",
      "2017-04-12     381\n",
      "2017-03-21     377\n",
      "2017-04-06     374\n",
      "2017-05-22     373\n",
      "2017-06-26     373\n",
      "2017-01-19     372\n",
      "2017-03-23     372\n",
      "2017-02-27     372\n",
      "2017-09-14     369\n",
      "2017-02-16     368\n",
      "2017-05-04     368\n",
      "2017-02-17     366\n",
      "2017-05-08     364\n",
      "2017-07-10     363\n",
      "2017-03-22     363\n",
      "2017-03-08     363\n",
      "2017-06-19     359\n",
      "2017-01-26     355\n",
      "2017-07-17     352\n",
      "2017-08-28     350\n",
      "2017-04-17     349\n",
      "2017-06-05     347\n",
      "2017-01-20     346\n",
      "2017-05-15     345\n",
      "2017-05-03     345\n",
      "2017-04-05     344\n",
      "2017-04-04     344\n",
      "2017-08-14     343\n",
      "2017-03-14     341\n",
      "2017-01-30     338\n",
      "2017-02-01     338\n",
      "2017-01-13     334\n",
      "2017-06-12     333\n",
      "2017-01-12     330\n",
      "2017-04-03     327\n",
      "2017-04-24     326\n",
      "2017-05-30     324\n",
      "2017-02-14     323\n",
      "2017-01-11     323\n",
      "2017-08-21     322\n",
      "2017-03-02     320\n",
      "2017-01-27     319\n",
      "2017-01-04     318\n",
      "2017-08-07     316\n",
      "2017-03-03     315\n",
      "2017-01-10     314\n",
      "2017-07-24     311\n",
      "2017-02-09     309\n",
      "2017-06-08     305\n",
      "2017-01-03     298\n",
      "2017-03-07     298\n",
      "2017-03-20     296\n",
      "2017-01-06     295\n",
      "2017-09-11     295\n",
      "2017-04-10     295\n",
      "2017-01-24     294\n",
      "2017-01-25     293\n",
      "2017-02-15     292\n",
      "2017-07-05     291\n",
      "2017-08-01     291\n",
      "2017-02-02     288\n",
      "2017-03-06     288\n",
      "2017-02-10     288\n",
      "2017-02-21     285\n",
      "2017-01-17     282\n",
      "2017-09-19     273\n",
      "2017-09-05     268\n",
      "2017-01-09     262\n",
      "2017-02-08     261\n",
      "2017-01-23     257\n",
      "2017-03-13     256\n",
      "2017-02-07     256\n",
      "2017-02-03     231\n",
      "2017-02-06     204\n",
      "2017-02-13     177\n",
      "2017-09-18     176\n",
      "2017-03-27     157\n",
      "2017-08-02     155\n",
      "2017-08-03     137\n",
      "2017-01-02      96\n",
      "2017-01-29      81\n",
      "2017-02-26      79\n",
      "2017-01-08      78\n",
      "2017-03-05      77\n",
      "2017-01-16      68\n",
      "2017-02-20      65\n",
      "2017-01-22      65\n",
      "2017-02-05      51\n",
      "2017-02-12      40\n",
      "2017-07-01      10\n",
      "2017-05-29      10\n",
      "2017-01-07       9\n",
      "2017-04-30       9\n",
      "2017-07-30       9\n",
      "2017-01-15       9\n",
      "2017-01-01       8\n",
      "2017-02-25       8\n",
      "2017-05-14       7\n",
      "2017-07-15       7\n",
      "2017-02-04       7\n",
      "2017-01-28       7\n",
      "2017-04-29       7\n",
      "2017-06-17       7\n",
      "2017-04-01       6\n",
      "2017-07-04       6\n",
      "2017-01-21       6\n",
      "2017-03-19       6\n",
      "2017-06-25       6\n",
      "2017-07-29       6\n",
      "2017-05-27       6\n",
      "2017-04-16       5\n",
      "2017-03-04       5\n",
      "2017-08-27       4\n",
      "2017-06-24       4\n",
      "2017-08-19       4\n",
      "2017-07-02       4\n",
      "2017-08-20       4\n",
      "2017-04-02       4\n",
      "2017-06-18       4\n",
      "2017-05-07       4\n",
      "2017-05-28       4\n",
      "2017-04-09       4\n",
      "2017-04-22       4\n",
      "2017-06-04       4\n",
      "2017-01-14       3\n",
      "2017-02-11       3\n",
      "2017-05-21       3\n",
      "2017-02-19       3\n",
      "2017-04-23       3\n",
      "2017-09-17       3\n",
      "2017-03-18       3\n",
      "2017-09-02       3\n",
      "2017-06-10       3\n",
      "2017-03-26       3\n",
      "2017-06-11       3\n",
      "2017-08-26       2\n",
      "2017-09-16       2\n",
      "2017-09-04       2\n",
      "2017-09-09       2\n",
      "2017-09-20       2\n",
      "2017-09-21       2\n",
      "2017-08-13       2\n",
      "2017-07-16       2\n",
      "2017-03-25       2\n",
      "2017-05-06       2\n",
      "2017-03-11       2\n",
      "2017-07-23       2\n",
      "2017-05-13       2\n",
      "2017-08-12       1\n",
      "2017-05-20       1\n",
      "2017-06-03       1\n",
      "2017-04-15       1\n",
      "2017-04-08       1\n",
      "2017-09-10       1\n",
      "2017-07-09       1\n",
      "2017-07-08       1\n",
      "2017-02-18       1\n",
      "2017-03-12       1\n",
      "2017-07-22       1\n",
      "2017-08-05       1\n",
      "2017-08-06       1\n",
      "2017-09-25       1\n",
      "Name: transactiondate, dtype: int64\n",
      "\n"
     ]
    }
   ],
   "source": [
    "categorical_col = [col for col in zillow.columns if col in zillow.select_dtypes(include = [\"object\"])]\n",
    "for col in categorical_col:\n",
    "    print(\"column name :\",  col)\n",
    "    print(zillow[col].value_counts())\n",
    "    print()"
   ]
  },
  {
   "cell_type": "code",
   "execution_count": 16,
   "id": "d36aa0f6",
   "metadata": {},
   "outputs": [
    {
     "data": {
      "image/png": "[encoded data removed]",
      "text/plain": [
       "<Figure size 432x288 with 1 Axes>"
      ]
     },
     "metadata": {
      "needs_background": "light"
     },
     "output_type": "display_data"
    },
    {
     "data": {
      "image/png": "[encoded data removed]",
      "text/plain": [
       "<Figure size 432x288 with 1 Axes>"
      ]
     },
     "metadata": {
      "needs_background": "light"
     },
     "output_type": "display_data"
    },
    {
     "data": {
      "image/png": "[encoded data removed]",
      "text/plain": [
       "<Figure size 432x288 with 1 Axes>"
      ]
     },
     "metadata": {
      "needs_background": "light"
     },
     "output_type": "display_data"
    },
    {
     "data": {
      "image/png": "[encoded data removed]",
      "text/plain": [
       "<Figure size 432x288 with 1 Axes>"
      ]
     },
     "metadata": {
      "needs_background": "light"
     },
     "output_type": "display_data"
    },
    {
     "data": {
      "image/png": "[encoded data removed]",
      "text/plain": [
       "<Figure size 432x288 with 1 Axes>"
      ]
     },
     "metadata": {
      "needs_background": "light"
     },
     "output_type": "display_data"
    },
    {
     "data": {
      "image/png": "[encoded data removed]",
      "text/plain": [
       "<Figure size 432x288 with 1 Axes>"
      ]
     },
     "metadata": {
      "needs_background": "light"
     },
     "output_type": "display_data"
    },
    {
     "data": {
      "image/png": "[encoded data removed]",
      "text/plain": [
       "<Figure size 432x288 with 1 Axes>"
      ]
     },
     "metadata": {
      "needs_background": "light"
     },
     "output_type": "display_data"
    },
    {
     "data": {
      "image/png": "[encoded data removed]",
      "text/plain": [
       "<Figure size 432x288 with 1 Axes>"
      ]
     },
     "metadata": {
      "needs_background": "light"
     },
     "output_type": "display_data"
    },
    {
     "data": {
      "image/png": "[encoded data removed]",
      "text/plain": [
       "<Figure size 432x288 with 1 Axes>"
      ]
     },
     "metadata": {
      "needs_background": "light"
     },
     "output_type": "display_data"
    },
    {
     "data": {
      "image/png": "[encoded data removed]",
      "text/plain": [
       "<Figure size 432x288 with 1 Axes>"
      ]
     },
     "metadata": {
      "needs_background": "light"
     },
     "output_type": "display_data"
    },
    {
     "data": {
      "image/png": "[encoded data removed]",
      "text/plain": [
       "<Figure size 432x288 with 1 Axes>"
      ]
     },
     "metadata": {
      "needs_background": "light"
     },
     "output_type": "display_data"
    },
    {
     "data": {
      "image/png": "[encoded data removed]",
      "text/plain": [
       "<Figure size 432x288 with 1 Axes>"
      ]
     },
     "metadata": {
      "needs_background": "light"
     },
     "output_type": "display_data"
    },
    {
     "data": {
      "image/png": "[encoded data removed]",
      "text/plain": [
       "<Figure size 432x288 with 1 Axes>"
      ]
     },
     "metadata": {
      "needs_background": "light"
     },
     "output_type": "display_data"
    },
    {
     "data": {
      "image/png": "[encoded data removed]",
      "text/plain": [
       "<Figure size 432x288 with 1 Axes>"
      ]
     },
     "metadata": {
      "needs_background": "light"
     },
     "output_type": "display_data"
    },
    {
     "data": {
      "image/png": "[encoded data removed]",
      "text/plain": [
       "<Figure size 432x288 with 1 Axes>"
      ]
     },
     "metadata": {
      "needs_background": "light"
     },
     "output_type": "display_data"
    },
    {
     "data": {
      "image/png": "[encoded data removed]",
      "text/plain": [
       "<Figure size 432x288 with 1 Axes>"
      ]
     },
     "metadata": {
      "needs_background": "light"
     },
     "output_type": "display_data"
    },
    {
     "data": {
      "image/png": "[encoded data removed]",
      "text/plain": [
       "<Figure size 432x288 with 1 Axes>"
      ]
     },
     "metadata": {
      "needs_background": "light"
     },
     "output_type": "display_data"
    },
    {
     "data": {
      "image/png": "[encoded data removed]",
      "text/plain": [
       "<Figure size 432x288 with 1 Axes>"
      ]
     },
     "metadata": {
      "needs_background": "light"
     },
     "output_type": "display_data"
    },
    {
     "data": {
      "image/png": "[encoded data removed]",
      "text/plain": [
       "<Figure size 432x288 with 1 Axes>"
      ]
     },
     "metadata": {
      "needs_background": "light"
     },
     "output_type": "display_data"
    },
    {
     "data": {
      "image/png": "[encoded data removed]",
      "text/plain": [
       "<Figure size 432x288 with 1 Axes>"
      ]
     },
     "metadata": {
      "needs_background": "light"
     },
     "output_type": "display_data"
    },
    {
     "data": {
      "image/png": "[encoded data removed]",
      "text/plain": [
       "<Figure size 432x288 with 1 Axes>"
      ]
     },
     "metadata": {
      "needs_background": "light"
     },
     "output_type": "display_data"
    },
    {
     "data": {
      "image/png": "[encoded data removed]",
      "text/plain": [
       "<Figure size 432x288 with 1 Axes>"
      ]
     },
     "metadata": {
      "needs_background": "light"
     },
     "output_type": "display_data"
    },
    {
     "data": {
      "image/png": "[encoded data removed]",
      "text/plain": [
       "<Figure size 432x288 with 1 Axes>"
      ]
     },
     "metadata": {
      "needs_background": "light"
     },
     "output_type": "display_data"
    },
    {
     "data": {
      "image/png": "[encoded data removed]",
      "text/plain": [
       "<Figure size 432x288 with 1 Axes>"
      ]
     },
     "metadata": {
      "needs_background": "light"
     },
     "output_type": "display_data"
    },
    {
     "data": {
      "image/png": "[encoded data removed]",
      "text/plain": [
       "<Figure size 432x288 with 1 Axes>"
      ]
     },
     "metadata": {
      "needs_background": "light"
     },
     "output_type": "display_data"
    },
    {
     "data": {
      "image/png": "[encoded data removed]",
      "text/plain": [
       "<Figure size 432x288 with 1 Axes>"
      ]
     },
     "metadata": {
      "needs_background": "light"
     },
     "output_type": "display_data"
    },
    {
     "data": {
      "image/png": "[encoded data removed]",
      "text/plain": [
       "<Figure size 432x288 with 1 Axes>"
      ]
     },
     "metadata": {
      "needs_background": "light"
     },
     "output_type": "display_data"
    },
    {
     "data": {
      "image/png": "[encoded data removed]",
      "text/plain": [
       "<Figure size 432x288 with 1 Axes>"
      ]
     },
     "metadata": {
      "needs_background": "light"
     },
     "output_type": "display_data"
    },
    {
     "data": {
      "image/png": "[encoded data removed]",
      "text/plain": [
       "<Figure size 432x288 with 1 Axes>"
      ]
     },
     "metadata": {
      "needs_background": "light"
     },
     "output_type": "display_data"
    },
    {
     "data": {
      "image/png": "[encoded data removed]",
      "text/plain": [
       "<Figure size 432x288 with 1 Axes>"
      ]
     },
     "metadata": {
      "needs_background": "light"
     },
     "output_type": "display_data"
    },
    {
     "data": {
      "image/png": "[encoded data removed]",
      "text/plain": [
       "<Figure size 432x288 with 1 Axes>"
      ]
     },
     "metadata": {
      "needs_background": "light"
     },
     "output_type": "display_data"
    },
    {
     "data": {
      "image/png": "[encoded data removed]",
      "text/plain": [
       "<Figure size 432x288 with 1 Axes>"
      ]
     },
     "metadata": {
      "needs_background": "light"
     },
     "output_type": "display_data"
    },
    {
     "data": {
      "image/png": "[encoded data removed]",
      "text/plain": [
       "<Figure size 432x288 with 1 Axes>"
      ]
     },
     "metadata": {
      "needs_background": "light"
     },
     "output_type": "display_data"
    },
    {
     "data": {
      "image/png": "[encoded data removed]",
      "text/plain": [
       "<Figure size 432x288 with 1 Axes>"
      ]
     },
     "metadata": {
      "needs_background": "light"
     },
     "output_type": "display_data"
    },
    {
     "data": {
      "image/png": "[encoded data removed]",
      "text/plain": [
       "<Figure size 432x288 with 1 Axes>"
      ]
     },
     "metadata": {
      "needs_background": "light"
     },
     "output_type": "display_data"
    },
    {
     "data": {
      "image/png": "[encoded data removed]",
      "text/plain": [
       "<Figure size 432x288 with 1 Axes>"
      ]
     },
     "metadata": {
      "needs_background": "light"
     },
     "output_type": "display_data"
    },
    {
     "data": {
      "image/png": "[encoded data removed]",
      "text/plain": [
       "<Figure size 432x288 with 1 Axes>"
      ]
     },
     "metadata": {
      "needs_background": "light"
     },
     "output_type": "display_data"
    },
    {
     "data": {
      "image/png": "[encoded data removed]",
      "text/plain": [
       "<Figure size 432x288 with 1 Axes>"
      ]
     },
     "metadata": {
      "needs_background": "light"
     },
     "output_type": "display_data"
    }
   ],
   "source": [
    "#collect numeric columns \n",
    "numerical_columns = [col for col in zillow.columns if col in zillow.select_dtypes(include = [\"number\"])]\n",
    "for col in numerical_columns:\n",
    "    sns.histplot(zillow[col])\n",
    "    plt.show()\n"
   ]
  },
  {
   "cell_type": "markdown",
   "id": "6f89da37",
   "metadata": {},
   "source": [
    "#### 3. Write a function that takes in a dataframe of observations and attributes and returns a dataframe where each row is an atttribute name, the first column is the number of rows with missing values for that attribute, and the second column is percent of total rows that have missing values for that attribute. Run the function and document takeaways from this on how you want to handle missing values."
   ]
  },
  {
   "cell_type": "code",
   "execution_count": 19,
   "id": "a3b1a06b",
   "metadata": {},
   "outputs": [],
   "source": [
    "def nulls_by_col(df):\n",
    "    num_rows_missing = df.isnull().sum()\n",
    "    pct_rows_missing = df.isnull().sum() / df.shape[0] * 100\n",
    "    cols_missing = pd.DataFrame({\n",
    "        \"num_rows_missing\" : num_rows_missing ,\n",
    "        \" pct_rows_missing\" : pct_rows_missing\n",
    "    })\n",
    "    return cols_missing"
   ]
  },
  {
   "cell_type": "code",
   "execution_count": 13,
   "id": "54ee0f62",
   "metadata": {},
   "outputs": [
    {
     "data": {
      "text/html": [
       "<div>\n",
       "<style scoped>\n",
       "    .dataframe tbody tr th:only-of-type {\n",
       "        vertical-align: middle;\n",
       "    }\n",
       "\n",
       "    .dataframe tbody tr th {\n",
       "        vertical-align: top;\n",
       "    }\n",
       "\n",
       "    .dataframe thead th {\n",
       "        text-align: right;\n",
       "    }\n",
       "</style>\n",
       "<table border=\"1\" class=\"dataframe\">\n",
       "  <thead>\n",
       "    <tr style=\"text-align: right;\">\n",
       "      <th></th>\n",
       "      <th>num_rows_missing</th>\n",
       "      <th>pct_rows_missing</th>\n",
       "    </tr>\n",
       "  </thead>\n",
       "  <tbody>\n",
       "    <tr>\n",
       "      <th>parcelid</th>\n",
       "      <td>0</td>\n",
       "      <td>0.000000</td>\n",
       "    </tr>\n",
       "    <tr>\n",
       "      <th>airconditioningtypeid</th>\n",
       "      <td>52427</td>\n",
       "      <td>67.752649</td>\n",
       "    </tr>\n",
       "    <tr>\n",
       "      <th>airconditioningdesc</th>\n",
       "      <td>52427</td>\n",
       "      <td>67.752649</td>\n",
       "    </tr>\n",
       "    <tr>\n",
       "      <th>architecturalstyletypeid</th>\n",
       "      <td>77174</td>\n",
       "      <td>99.733781</td>\n",
       "    </tr>\n",
       "    <tr>\n",
       "      <th>architecturalstyledesc</th>\n",
       "      <td>77174</td>\n",
       "      <td>99.733781</td>\n",
       "    </tr>\n",
       "    <tr>\n",
       "      <th>bathroomcnt</th>\n",
       "      <td>0</td>\n",
       "      <td>0.000000</td>\n",
       "    </tr>\n",
       "    <tr>\n",
       "      <th>bedroomcnt</th>\n",
       "      <td>0</td>\n",
       "      <td>0.000000</td>\n",
       "    </tr>\n",
       "    <tr>\n",
       "      <th>buildingclasstypeid</th>\n",
       "      <td>77365</td>\n",
       "      <td>99.980615</td>\n",
       "    </tr>\n",
       "    <tr>\n",
       "      <th>buildingclassdesc</th>\n",
       "      <td>77365</td>\n",
       "      <td>99.980615</td>\n",
       "    </tr>\n",
       "    <tr>\n",
       "      <th>buildingqualitytypeid</th>\n",
       "      <td>27709</td>\n",
       "      <td>35.808995</td>\n",
       "    </tr>\n",
       "    <tr>\n",
       "      <th>decktypeid</th>\n",
       "      <td>76766</td>\n",
       "      <td>99.206513</td>\n",
       "    </tr>\n",
       "    <tr>\n",
       "      <th>calculatedfinishedsquarefeet</th>\n",
       "      <td>196</td>\n",
       "      <td>0.253295</td>\n",
       "    </tr>\n",
       "    <tr>\n",
       "      <th>fips</th>\n",
       "      <td>0</td>\n",
       "      <td>0.000000</td>\n",
       "    </tr>\n",
       "    <tr>\n",
       "      <th>fireplacecnt</th>\n",
       "      <td>69104</td>\n",
       "      <td>89.304730</td>\n",
       "    </tr>\n",
       "    <tr>\n",
       "      <th>fireplaceflag</th>\n",
       "      <td>77208</td>\n",
       "      <td>99.777720</td>\n",
       "    </tr>\n",
       "    <tr>\n",
       "      <th>garagecarcnt</th>\n",
       "      <td>51906</td>\n",
       "      <td>67.079349</td>\n",
       "    </tr>\n",
       "    <tr>\n",
       "      <th>garagetotalsqft</th>\n",
       "      <td>51906</td>\n",
       "      <td>67.079349</td>\n",
       "    </tr>\n",
       "    <tr>\n",
       "      <th>hashottuborspa</th>\n",
       "      <td>75842</td>\n",
       "      <td>98.012406</td>\n",
       "    </tr>\n",
       "    <tr>\n",
       "      <th>latitude</th>\n",
       "      <td>0</td>\n",
       "      <td>0.000000</td>\n",
       "    </tr>\n",
       "    <tr>\n",
       "      <th>longitude</th>\n",
       "      <td>0</td>\n",
       "      <td>0.000000</td>\n",
       "    </tr>\n",
       "    <tr>\n",
       "      <th>lotsizesquarefeet</th>\n",
       "      <td>8239</td>\n",
       "      <td>10.647454</td>\n",
       "    </tr>\n",
       "    <tr>\n",
       "      <th>poolcnt</th>\n",
       "      <td>61243</td>\n",
       "      <td>79.145774</td>\n",
       "    </tr>\n",
       "    <tr>\n",
       "      <th>poolsizesum</th>\n",
       "      <td>76513</td>\n",
       "      <td>98.879555</td>\n",
       "    </tr>\n",
       "    <tr>\n",
       "      <th>propertycountylandusecode</th>\n",
       "      <td>0</td>\n",
       "      <td>0.000000</td>\n",
       "    </tr>\n",
       "    <tr>\n",
       "      <th>propertylandusetypeid</th>\n",
       "      <td>0</td>\n",
       "      <td>0.000000</td>\n",
       "    </tr>\n",
       "    <tr>\n",
       "      <th>propertylandusedesc</th>\n",
       "      <td>0</td>\n",
       "      <td>0.000000</td>\n",
       "    </tr>\n",
       "    <tr>\n",
       "      <th>propertyzoningdesc</th>\n",
       "      <td>27050</td>\n",
       "      <td>34.957353</td>\n",
       "    </tr>\n",
       "    <tr>\n",
       "      <th>rawcensustractandblock</th>\n",
       "      <td>0</td>\n",
       "      <td>0.000000</td>\n",
       "    </tr>\n",
       "    <tr>\n",
       "      <th>regionidcity</th>\n",
       "      <td>1471</td>\n",
       "      <td>1.901008</td>\n",
       "    </tr>\n",
       "    <tr>\n",
       "      <th>regionidcounty</th>\n",
       "      <td>0</td>\n",
       "      <td>0.000000</td>\n",
       "    </tr>\n",
       "    <tr>\n",
       "      <th>regionidneighborhood</th>\n",
       "      <td>46490</td>\n",
       "      <td>60.080124</td>\n",
       "    </tr>\n",
       "    <tr>\n",
       "      <th>roomcnt</th>\n",
       "      <td>0</td>\n",
       "      <td>0.000000</td>\n",
       "    </tr>\n",
       "    <tr>\n",
       "      <th>threequarterbathnbr</th>\n",
       "      <td>67284</td>\n",
       "      <td>86.952701</td>\n",
       "    </tr>\n",
       "    <tr>\n",
       "      <th>typeconstructiontypeid</th>\n",
       "      <td>77158</td>\n",
       "      <td>99.713104</td>\n",
       "    </tr>\n",
       "    <tr>\n",
       "      <th>typeconstructiondesc</th>\n",
       "      <td>77158</td>\n",
       "      <td>99.713104</td>\n",
       "    </tr>\n",
       "    <tr>\n",
       "      <th>unitcnt</th>\n",
       "      <td>26818</td>\n",
       "      <td>34.657534</td>\n",
       "    </tr>\n",
       "    <tr>\n",
       "      <th>yearbuilt</th>\n",
       "      <td>263</td>\n",
       "      <td>0.339881</td>\n",
       "    </tr>\n",
       "    <tr>\n",
       "      <th>numberofstories</th>\n",
       "      <td>59820</td>\n",
       "      <td>77.306798</td>\n",
       "    </tr>\n",
       "    <tr>\n",
       "      <th>structuretaxvaluedollarcnt</th>\n",
       "      <td>112</td>\n",
       "      <td>0.144740</td>\n",
       "    </tr>\n",
       "    <tr>\n",
       "      <th>taxvaluedollarcnt</th>\n",
       "      <td>1</td>\n",
       "      <td>0.001292</td>\n",
       "    </tr>\n",
       "    <tr>\n",
       "      <th>assessmentyear</th>\n",
       "      <td>0</td>\n",
       "      <td>0.000000</td>\n",
       "    </tr>\n",
       "    <tr>\n",
       "      <th>landtaxvaluedollarcnt</th>\n",
       "      <td>2</td>\n",
       "      <td>0.002585</td>\n",
       "    </tr>\n",
       "    <tr>\n",
       "      <th>taxamount</th>\n",
       "      <td>5</td>\n",
       "      <td>0.006462</td>\n",
       "    </tr>\n",
       "    <tr>\n",
       "      <th>censustractandblock</th>\n",
       "      <td>244</td>\n",
       "      <td>0.315327</td>\n",
       "    </tr>\n",
       "    <tr>\n",
       "      <th>logerror</th>\n",
       "      <td>0</td>\n",
       "      <td>0.000000</td>\n",
       "    </tr>\n",
       "    <tr>\n",
       "      <th>transactiondate</th>\n",
       "      <td>0</td>\n",
       "      <td>0.000000</td>\n",
       "    </tr>\n",
       "  </tbody>\n",
       "</table>\n",
       "</div>"
      ],
      "text/plain": [
       "                              num_rows_missing   pct_rows_missing\n",
       "parcelid                                     0           0.000000\n",
       "airconditioningtypeid                    52427          67.752649\n",
       "airconditioningdesc                      52427          67.752649\n",
       "architecturalstyletypeid                 77174          99.733781\n",
       "architecturalstyledesc                   77174          99.733781\n",
       "bathroomcnt                                  0           0.000000\n",
       "bedroomcnt                                   0           0.000000\n",
       "buildingclasstypeid                      77365          99.980615\n",
       "buildingclassdesc                        77365          99.980615\n",
       "buildingqualitytypeid                    27709          35.808995\n",
       "decktypeid                               76766          99.206513\n",
       "calculatedfinishedsquarefeet               196           0.253295\n",
       "fips                                         0           0.000000\n",
       "fireplacecnt                             69104          89.304730\n",
       "fireplaceflag                            77208          99.777720\n",
       "garagecarcnt                             51906          67.079349\n",
       "garagetotalsqft                          51906          67.079349\n",
       "hashottuborspa                           75842          98.012406\n",
       "latitude                                     0           0.000000\n",
       "longitude                                    0           0.000000\n",
       "lotsizesquarefeet                         8239          10.647454\n",
       "poolcnt                                  61243          79.145774\n",
       "poolsizesum                              76513          98.879555\n",
       "propertycountylandusecode                    0           0.000000\n",
       "propertylandusetypeid                        0           0.000000\n",
       "propertylandusedesc                          0           0.000000\n",
       "propertyzoningdesc                       27050          34.957353\n",
       "rawcensustractandblock                       0           0.000000\n",
       "regionidcity                              1471           1.901008\n",
       "regionidcounty                               0           0.000000\n",
       "regionidneighborhood                     46490          60.080124\n",
       "roomcnt                                      0           0.000000\n",
       "threequarterbathnbr                      67284          86.952701\n",
       "typeconstructiontypeid                   77158          99.713104\n",
       "typeconstructiondesc                     77158          99.713104\n",
       "unitcnt                                  26818          34.657534\n",
       "yearbuilt                                  263           0.339881\n",
       "numberofstories                          59820          77.306798\n",
       "structuretaxvaluedollarcnt                 112           0.144740\n",
       "taxvaluedollarcnt                            1           0.001292\n",
       "assessmentyear                               0           0.000000\n",
       "landtaxvaluedollarcnt                        2           0.002585\n",
       "taxamount                                    5           0.006462\n",
       "censustractandblock                        244           0.315327\n",
       "logerror                                     0           0.000000\n",
       "transactiondate                              0           0.000000"
      ]
     },
     "execution_count": 13,
     "metadata": {},
     "output_type": "execute_result"
    }
   ],
   "source": [
    "nulls_by_col(zillow)"
   ]
  },
  {
   "cell_type": "code",
   "execution_count": 14,
   "id": "b17971bb",
   "metadata": {},
   "outputs": [],
   "source": [
    "def nulls_by_rows(df):\n",
    "    num_missing = df.isnull().sum(axis =1)\n",
    "    pct_missing = (num_missing / df.shape[1]) * 100\n",
    "    missing_values = pd.DataFrame({\"num_missing\":num_missing, \"pct_missing\":pct_missing})\\\n",
    "                    .reset_index().groupby([\"num_missing\",\"pct_missing\"]).count()\\\n",
    "    .rename(index=str, columns={'index': 'num_rows'}).reset_index()\n",
    "    return missing_values"
   ]
  },
  {
   "cell_type": "code",
   "execution_count": 15,
   "id": "025d994b",
   "metadata": {},
   "outputs": [
    {
     "data": {
      "text/html": [
       "<div>\n",
       "<style scoped>\n",
       "    .dataframe tbody tr th:only-of-type {\n",
       "        vertical-align: middle;\n",
       "    }\n",
       "\n",
       "    .dataframe tbody tr th {\n",
       "        vertical-align: top;\n",
       "    }\n",
       "\n",
       "    .dataframe thead th {\n",
       "        text-align: right;\n",
       "    }\n",
       "</style>\n",
       "<table border=\"1\" class=\"dataframe\">\n",
       "  <thead>\n",
       "    <tr style=\"text-align: right;\">\n",
       "      <th></th>\n",
       "      <th>num_missing</th>\n",
       "      <th>pct_missing</th>\n",
       "      <th>num_rows</th>\n",
       "    </tr>\n",
       "  </thead>\n",
       "  <tbody>\n",
       "    <tr>\n",
       "      <th>0</th>\n",
       "      <td>9</td>\n",
       "      <td>19.565217391304348</td>\n",
       "      <td>2</td>\n",
       "    </tr>\n",
       "    <tr>\n",
       "      <th>1</th>\n",
       "      <td>10</td>\n",
       "      <td>21.73913043478261</td>\n",
       "      <td>10</td>\n",
       "    </tr>\n",
       "    <tr>\n",
       "      <th>2</th>\n",
       "      <td>11</td>\n",
       "      <td>23.91304347826087</td>\n",
       "      <td>23</td>\n",
       "    </tr>\n",
       "    <tr>\n",
       "      <th>3</th>\n",
       "      <td>12</td>\n",
       "      <td>26.08695652173913</td>\n",
       "      <td>62</td>\n",
       "    </tr>\n",
       "    <tr>\n",
       "      <th>4</th>\n",
       "      <td>13</td>\n",
       "      <td>28.26086956521739</td>\n",
       "      <td>114</td>\n",
       "    </tr>\n",
       "    <tr>\n",
       "      <th>5</th>\n",
       "      <td>14</td>\n",
       "      <td>30.434782608695656</td>\n",
       "      <td>416</td>\n",
       "    </tr>\n",
       "    <tr>\n",
       "      <th>6</th>\n",
       "      <td>15</td>\n",
       "      <td>32.608695652173914</td>\n",
       "      <td>5577</td>\n",
       "    </tr>\n",
       "    <tr>\n",
       "      <th>7</th>\n",
       "      <td>16</td>\n",
       "      <td>34.78260869565217</td>\n",
       "      <td>10549</td>\n",
       "    </tr>\n",
       "    <tr>\n",
       "      <th>8</th>\n",
       "      <td>17</td>\n",
       "      <td>36.95652173913043</td>\n",
       "      <td>14385</td>\n",
       "    </tr>\n",
       "    <tr>\n",
       "      <th>9</th>\n",
       "      <td>18</td>\n",
       "      <td>39.130434782608695</td>\n",
       "      <td>21032</td>\n",
       "    </tr>\n",
       "    <tr>\n",
       "      <th>10</th>\n",
       "      <td>19</td>\n",
       "      <td>41.30434782608695</td>\n",
       "      <td>18022</td>\n",
       "    </tr>\n",
       "    <tr>\n",
       "      <th>11</th>\n",
       "      <td>20</td>\n",
       "      <td>43.47826086956522</td>\n",
       "      <td>4283</td>\n",
       "    </tr>\n",
       "    <tr>\n",
       "      <th>12</th>\n",
       "      <td>21</td>\n",
       "      <td>45.65217391304348</td>\n",
       "      <td>2110</td>\n",
       "    </tr>\n",
       "    <tr>\n",
       "      <th>13</th>\n",
       "      <td>22</td>\n",
       "      <td>47.82608695652174</td>\n",
       "      <td>438</td>\n",
       "    </tr>\n",
       "    <tr>\n",
       "      <th>14</th>\n",
       "      <td>23</td>\n",
       "      <td>50.0</td>\n",
       "      <td>211</td>\n",
       "    </tr>\n",
       "    <tr>\n",
       "      <th>15</th>\n",
       "      <td>24</td>\n",
       "      <td>52.17391304347826</td>\n",
       "      <td>84</td>\n",
       "    </tr>\n",
       "    <tr>\n",
       "      <th>16</th>\n",
       "      <td>25</td>\n",
       "      <td>54.347826086956516</td>\n",
       "      <td>50</td>\n",
       "    </tr>\n",
       "    <tr>\n",
       "      <th>17</th>\n",
       "      <td>26</td>\n",
       "      <td>56.52173913043478</td>\n",
       "      <td>9</td>\n",
       "    </tr>\n",
       "    <tr>\n",
       "      <th>18</th>\n",
       "      <td>27</td>\n",
       "      <td>58.69565217391305</td>\n",
       "      <td>2</td>\n",
       "    </tr>\n",
       "    <tr>\n",
       "      <th>19</th>\n",
       "      <td>28</td>\n",
       "      <td>60.86956521739131</td>\n",
       "      <td>1</td>\n",
       "    </tr>\n",
       "  </tbody>\n",
       "</table>\n",
       "</div>"
      ],
      "text/plain": [
       "   num_missing         pct_missing  num_rows\n",
       "0            9  19.565217391304348         2\n",
       "1           10   21.73913043478261        10\n",
       "2           11   23.91304347826087        23\n",
       "3           12   26.08695652173913        62\n",
       "4           13   28.26086956521739       114\n",
       "5           14  30.434782608695656       416\n",
       "6           15  32.608695652173914      5577\n",
       "7           16   34.78260869565217     10549\n",
       "8           17   36.95652173913043     14385\n",
       "9           18  39.130434782608695     21032\n",
       "10          19   41.30434782608695     18022\n",
       "11          20   43.47826086956522      4283\n",
       "12          21   45.65217391304348      2110\n",
       "13          22   47.82608695652174       438\n",
       "14          23                50.0       211\n",
       "15          24   52.17391304347826        84\n",
       "16          25  54.347826086956516        50\n",
       "17          26   56.52173913043478         9\n",
       "18          27   58.69565217391305         2\n",
       "19          28   60.86956521739131         1"
      ]
     },
     "execution_count": 15,
     "metadata": {},
     "output_type": "execute_result"
    }
   ],
   "source": [
    "nulls_by_rows(zillow)"
   ]
  },
  {
   "cell_type": "code",
   "execution_count": null,
   "id": "05466e18",
   "metadata": {},
   "outputs": [],
   "source": [
    "#some columns have really high number of nulls\n",
    "#we will create a function and set thresholds"
   ]
  },
  {
   "cell_type": "markdown",
   "id": "96620b75",
   "metadata": {},
   "source": [
    "### Prepare"
   ]
  },
  {
   "cell_type": "markdown",
   "id": "a289f6a3",
   "metadata": {},
   "source": [
    "#### 1. Remove any properties that are likely to be something other than single unit properties. (e.g. no duplexes, no land/lot, ...). There are multiple ways to estimate that a property is a single unit, and there is not a single \"right\" answer."
   ]
  },
  {
   "cell_type": "code",
   "execution_count": 16,
   "id": "b5316085",
   "metadata": {},
   "outputs": [
    {
     "data": {
      "text/plain": [
       "Single Family Residential                     52319\n",
       "Condominium                                   19294\n",
       "Duplex (2 Units, Any Combination)              2009\n",
       "Planned Unit Development                       1944\n",
       "Quadruplex (4 Units, Any Combination)           727\n",
       "Triplex (3 Units, Any Combination)              535\n",
       "Cluster Home                                    333\n",
       "Mobile Home                                      74\n",
       "Manufactured, Modular, Prefabricated Homes       58\n",
       "Residential General                              37\n",
       "Cooperative                                      29\n",
       "Commercial/Office/Residential Mixed Used         15\n",
       "Townhouse                                         6\n",
       "Name: propertylandusedesc, dtype: int64"
      ]
     },
     "execution_count": 16,
     "metadata": {},
     "output_type": "execute_result"
    }
   ],
   "source": [
    "zillow.propertylandusedesc.value_counts()"
   ]
  },
  {
   "cell_type": "code",
   "execution_count": 5,
   "id": "0acea164",
   "metadata": {},
   "outputs": [],
   "source": [
    "#we are goning to define single homes as property which 1 main entrance door\n",
    "single_home = ['Single Family Residential', 'Condominium', \n",
    "               'Townhouse', 'Manufactured, Modular, Prefabricated Homes', \n",
    "               'Mobile Home']\n",
    "zillow = zillow[zillow.propertylandusedesc.isin(single_home)]"
   ]
  },
  {
   "cell_type": "code",
   "execution_count": 6,
   "id": "4f59d9cf",
   "metadata": {},
   "outputs": [
    {
     "data": {
      "text/plain": [
       "(71751, 46)"
      ]
     },
     "execution_count": 6,
     "metadata": {},
     "output_type": "execute_result"
    }
   ],
   "source": [
    "#what is the new shape?\n",
    "zillow.shape"
   ]
  },
  {
   "cell_type": "code",
   "execution_count": 7,
   "id": "70074f02",
   "metadata": {},
   "outputs": [
    {
     "data": {
      "text/plain": [
       "1.0    45286\n",
       "NaN    26429\n",
       "2.0       32\n",
       "3.0        3\n",
       "6.0        1\n",
       "Name: unitcnt, dtype: int64"
      ]
     },
     "execution_count": 7,
     "metadata": {},
     "output_type": "execute_result"
    }
   ],
   "source": [
    "#peek at unit count\n",
    "zillow.unitcnt.value_counts(dropna = False)"
   ]
  },
  {
   "cell_type": "code",
   "execution_count": 8,
   "id": "cc00d531",
   "metadata": {},
   "outputs": [],
   "source": [
    "zillow = zillow[(zillow.unitcnt == 1 )|(zillow.unitcnt.isna())]"
   ]
  },
  {
   "cell_type": "code",
   "execution_count": 22,
   "id": "60e9a342",
   "metadata": {},
   "outputs": [
    {
     "data": {
      "text/plain": [
       "(71715, 46)"
      ]
     },
     "execution_count": 22,
     "metadata": {},
     "output_type": "execute_result"
    }
   ],
   "source": [
    "zillow.shape"
   ]
  },
  {
   "cell_type": "code",
   "execution_count": null,
   "id": "f52e7066",
   "metadata": {},
   "outputs": [],
   "source": [
    "#lets make a function and transfer it to py file\n",
    "def get_single_unit(zillow):\n",
    "    single_home = ['Single Family Residential', 'Condominium', \n",
    "               'Townhouse', 'Manufactured, Modular, Prefabricated Homes', \n",
    "               'Mobile Home']\n",
    "    zillow = zillow[zillow.propertylandusedesc.isin(single_home)]\n",
    "    \n",
    "    zillow = zillow[(zillow.unitcnt == 1 )|(zillow.unitcnt.isna())]\n",
    "    \n",
    "    return zillow"
   ]
  },
  {
   "cell_type": "markdown",
   "id": "4fecb203",
   "metadata": {},
   "source": [
    "#### 2. Create a function that will drop rows or columns based on the percent of values that are missing: handle_missing_values(df, prop_required_column, prop_required_row).\n",
    "\n",
    "The input:\n",
    "A dataframe\n",
    "A number between 0 and 1 that represents the proportion, for each column, of rows with non-missing values required to keep the column. i.e. if prop_required_column = .6, then you are requiring a column to have at least 60% of values not-NA (no more than 40% missing).\n",
    "A number between 0 and 1 that represents the proportion, for each row, of columns/variables with non-missing values required to keep the row. For example, if prop_required_row = .75, then you are requiring a row to have at least 75% of variables with a non-missing value (no more that 25% missing).\n",
    "The output:\n",
    "The dataframe with the columns and rows dropped as indicated. Be sure to drop the columns prior to the rows in your function."
   ]
  },
  {
   "cell_type": "code",
   "execution_count": 9,
   "id": "dda3fb63",
   "metadata": {},
   "outputs": [],
   "source": [
    "def handle_missing_values(df,prop_required_columns,prop_required_row):\n",
    "    threshold = int(round(prop_required_columns * len(df.index),0))\n",
    "    df = df.dropna(axis = 1 , thresh = threshold)\n",
    "    threshold = int(round(prop_required_row * len(df.columns),0 ))\n",
    "    df = df.dropna(axis = 0, thresh = threshold)\n",
    "    return df"
   ]
  },
  {
   "cell_type": "code",
   "execution_count": 10,
   "id": "499e987f",
   "metadata": {},
   "outputs": [],
   "source": [
    "zillow = handle_missing_values(zillow, prop_required_columns = .6 , prop_required_row = .75 )"
   ]
  },
  {
   "cell_type": "code",
   "execution_count": 11,
   "id": "792f5713",
   "metadata": {},
   "outputs": [
    {
     "data": {
      "text/plain": [
       "(71712, 27)"
      ]
     },
     "execution_count": 11,
     "metadata": {},
     "output_type": "execute_result"
    }
   ],
   "source": [
    "zillow.shape\n"
   ]
  },
  {
   "cell_type": "code",
   "execution_count": 12,
   "id": "f1f13299",
   "metadata": {},
   "outputs": [
    {
     "data": {
      "text/plain": [
       "[]"
      ]
     },
     "execution_count": 12,
     "metadata": {},
     "output_type": "execute_result"
    },
    {
     "data": {
      "image/png": "[encoded data removed]",
      "text/plain": [
       "<Figure size 432x288 with 1 Axes>"
      ]
     },
     "metadata": {
      "needs_background": "light"
     },
     "output_type": "display_data"
    }
   ],
   "source": [
    "#lets see about ourtliers \n",
    "sns.boxplot(zillow.bathroomcnt)\n",
    "plt.plot()"
   ]
  },
  {
   "cell_type": "code",
   "execution_count": 13,
   "id": "4f884640",
   "metadata": {},
   "outputs": [
    {
     "data": {
      "text/plain": [
       "[]"
      ]
     },
     "execution_count": 13,
     "metadata": {},
     "output_type": "execute_result"
    },
    {
     "data": {
      "image/png": "[encoded data removed]",
      "text/plain": [
       "<Figure size 432x288 with 1 Axes>"
      ]
     },
     "metadata": {
      "needs_background": "light"
     },
     "output_type": "display_data"
    }
   ],
   "source": [
    "sns.boxplot(zillow.bedroomcnt)\n",
    "plt.plot()"
   ]
  },
  {
   "cell_type": "code",
   "execution_count": 14,
   "id": "9e079659",
   "metadata": {},
   "outputs": [],
   "source": [
    "zillow = zillow[(zillow.bedroomcnt > 0) & (zillow.bedroomcnt < 9)]"
   ]
  },
  {
   "cell_type": "code",
   "execution_count": 15,
   "id": "4f218e67",
   "metadata": {},
   "outputs": [],
   "source": [
    "zillow = zillow[(zillow.bathroomcnt > 0) & (zillow.bathroomcnt < 7.0)]"
   ]
  },
  {
   "cell_type": "code",
   "execution_count": 17,
   "id": "ab5f2f2b",
   "metadata": {},
   "outputs": [
    {
     "data": {
      "text/plain": [
       "(71054, 27)"
      ]
     },
     "execution_count": 17,
     "metadata": {},
     "output_type": "execute_result"
    }
   ],
   "source": [
    "zillow.shape"
   ]
  },
  {
   "cell_type": "code",
   "execution_count": 20,
   "id": "72644ea2",
   "metadata": {},
   "outputs": [
    {
     "data": {
      "text/html": [
       "<div>\n",
       "<style scoped>\n",
       "    .dataframe tbody tr th:only-of-type {\n",
       "        vertical-align: middle;\n",
       "    }\n",
       "\n",
       "    .dataframe tbody tr th {\n",
       "        vertical-align: top;\n",
       "    }\n",
       "\n",
       "    .dataframe thead th {\n",
       "        text-align: right;\n",
       "    }\n",
       "</style>\n",
       "<table border=\"1\" class=\"dataframe\">\n",
       "  <thead>\n",
       "    <tr style=\"text-align: right;\">\n",
       "      <th></th>\n",
       "      <th>num_rows_missing</th>\n",
       "      <th>pct_rows_missing</th>\n",
       "    </tr>\n",
       "  </thead>\n",
       "  <tbody>\n",
       "    <tr>\n",
       "      <th>parcelid</th>\n",
       "      <td>0</td>\n",
       "      <td>0.000000</td>\n",
       "    </tr>\n",
       "    <tr>\n",
       "      <th>bathroomcnt</th>\n",
       "      <td>0</td>\n",
       "      <td>0.000000</td>\n",
       "    </tr>\n",
       "    <tr>\n",
       "      <th>bedroomcnt</th>\n",
       "      <td>0</td>\n",
       "      <td>0.000000</td>\n",
       "    </tr>\n",
       "    <tr>\n",
       "      <th>buildingqualitytypeid</th>\n",
       "      <td>26442</td>\n",
       "      <td>37.213950</td>\n",
       "    </tr>\n",
       "    <tr>\n",
       "      <th>calculatedfinishedsquarefeet</th>\n",
       "      <td>10</td>\n",
       "      <td>0.014074</td>\n",
       "    </tr>\n",
       "    <tr>\n",
       "      <th>fips</th>\n",
       "      <td>0</td>\n",
       "      <td>0.000000</td>\n",
       "    </tr>\n",
       "    <tr>\n",
       "      <th>latitude</th>\n",
       "      <td>0</td>\n",
       "      <td>0.000000</td>\n",
       "    </tr>\n",
       "    <tr>\n",
       "      <th>longitude</th>\n",
       "      <td>0</td>\n",
       "      <td>0.000000</td>\n",
       "    </tr>\n",
       "    <tr>\n",
       "      <th>lotsizesquarefeet</th>\n",
       "      <td>8018</td>\n",
       "      <td>11.284375</td>\n",
       "    </tr>\n",
       "    <tr>\n",
       "      <th>propertycountylandusecode</th>\n",
       "      <td>0</td>\n",
       "      <td>0.000000</td>\n",
       "    </tr>\n",
       "    <tr>\n",
       "      <th>propertylandusetypeid</th>\n",
       "      <td>0</td>\n",
       "      <td>0.000000</td>\n",
       "    </tr>\n",
       "    <tr>\n",
       "      <th>propertylandusedesc</th>\n",
       "      <td>0</td>\n",
       "      <td>0.000000</td>\n",
       "    </tr>\n",
       "    <tr>\n",
       "      <th>propertyzoningdesc</th>\n",
       "      <td>26185</td>\n",
       "      <td>36.852253</td>\n",
       "    </tr>\n",
       "    <tr>\n",
       "      <th>rawcensustractandblock</th>\n",
       "      <td>0</td>\n",
       "      <td>0.000000</td>\n",
       "    </tr>\n",
       "    <tr>\n",
       "      <th>regionidcity</th>\n",
       "      <td>1317</td>\n",
       "      <td>1.853520</td>\n",
       "    </tr>\n",
       "    <tr>\n",
       "      <th>regionidcounty</th>\n",
       "      <td>0</td>\n",
       "      <td>0.000000</td>\n",
       "    </tr>\n",
       "    <tr>\n",
       "      <th>roomcnt</th>\n",
       "      <td>0</td>\n",
       "      <td>0.000000</td>\n",
       "    </tr>\n",
       "    <tr>\n",
       "      <th>unitcnt</th>\n",
       "      <td>26160</td>\n",
       "      <td>36.817069</td>\n",
       "    </tr>\n",
       "    <tr>\n",
       "      <th>yearbuilt</th>\n",
       "      <td>41</td>\n",
       "      <td>0.057703</td>\n",
       "    </tr>\n",
       "    <tr>\n",
       "      <th>structuretaxvaluedollarcnt</th>\n",
       "      <td>72</td>\n",
       "      <td>0.101331</td>\n",
       "    </tr>\n",
       "    <tr>\n",
       "      <th>taxvaluedollarcnt</th>\n",
       "      <td>1</td>\n",
       "      <td>0.001407</td>\n",
       "    </tr>\n",
       "    <tr>\n",
       "      <th>assessmentyear</th>\n",
       "      <td>0</td>\n",
       "      <td>0.000000</td>\n",
       "    </tr>\n",
       "    <tr>\n",
       "      <th>landtaxvaluedollarcnt</th>\n",
       "      <td>1</td>\n",
       "      <td>0.001407</td>\n",
       "    </tr>\n",
       "    <tr>\n",
       "      <th>taxamount</th>\n",
       "      <td>5</td>\n",
       "      <td>0.007037</td>\n",
       "    </tr>\n",
       "    <tr>\n",
       "      <th>censustractandblock</th>\n",
       "      <td>207</td>\n",
       "      <td>0.291328</td>\n",
       "    </tr>\n",
       "    <tr>\n",
       "      <th>logerror</th>\n",
       "      <td>0</td>\n",
       "      <td>0.000000</td>\n",
       "    </tr>\n",
       "    <tr>\n",
       "      <th>transactiondate</th>\n",
       "      <td>0</td>\n",
       "      <td>0.000000</td>\n",
       "    </tr>\n",
       "  </tbody>\n",
       "</table>\n",
       "</div>"
      ],
      "text/plain": [
       "                              num_rows_missing   pct_rows_missing\n",
       "parcelid                                     0           0.000000\n",
       "bathroomcnt                                  0           0.000000\n",
       "bedroomcnt                                   0           0.000000\n",
       "buildingqualitytypeid                    26442          37.213950\n",
       "calculatedfinishedsquarefeet                10           0.014074\n",
       "fips                                         0           0.000000\n",
       "latitude                                     0           0.000000\n",
       "longitude                                    0           0.000000\n",
       "lotsizesquarefeet                         8018          11.284375\n",
       "propertycountylandusecode                    0           0.000000\n",
       "propertylandusetypeid                        0           0.000000\n",
       "propertylandusedesc                          0           0.000000\n",
       "propertyzoningdesc                       26185          36.852253\n",
       "rawcensustractandblock                       0           0.000000\n",
       "regionidcity                              1317           1.853520\n",
       "regionidcounty                               0           0.000000\n",
       "roomcnt                                      0           0.000000\n",
       "unitcnt                                  26160          36.817069\n",
       "yearbuilt                                   41           0.057703\n",
       "structuretaxvaluedollarcnt                  72           0.101331\n",
       "taxvaluedollarcnt                            1           0.001407\n",
       "assessmentyear                               0           0.000000\n",
       "landtaxvaluedollarcnt                        1           0.001407\n",
       "taxamount                                    5           0.007037\n",
       "censustractandblock                        207           0.291328\n",
       "logerror                                     0           0.000000\n",
       "transactiondate                              0           0.000000"
      ]
     },
     "execution_count": 20,
     "metadata": {},
     "output_type": "execute_result"
    }
   ],
   "source": [
    "nulls_by_col(zillow)"
   ]
  },
  {
   "cell_type": "code",
   "execution_count": 21,
   "id": "42b08121",
   "metadata": {},
   "outputs": [
    {
     "data": {
      "text/plain": [
       "<AxesSubplot:xlabel='roomcnt'>"
      ]
     },
     "execution_count": 21,
     "metadata": {},
     "output_type": "execute_result"
    },
    {
     "data": {
      "image/png": "[encoded data removed]",
      "text/plain": [
       "<Figure size 432x288 with 1 Axes>"
      ]
     },
     "metadata": {
      "needs_background": "light"
     },
     "output_type": "display_data"
    }
   ],
   "source": [
    "sns.boxplot(zillow.roomcnt)"
   ]
  },
  {
   "cell_type": "code",
   "execution_count": 7,
   "id": "d6a8d54f",
   "metadata": {},
   "outputs": [
    {
     "data": {
      "text/plain": [
       "0.0     59807\n",
       "6.0      4513\n",
       "7.0      3838\n",
       "5.0      3016\n",
       "8.0      2872\n",
       "4.0      1415\n",
       "9.0      1193\n",
       "10.0      339\n",
       "3.0       211\n",
       "11.0      108\n",
       "12.0       35\n",
       "2.0        15\n",
       "13.0       10\n",
       "14.0        6\n",
       "1.0         1\n",
       "15.0        1\n",
       "Name: roomcnt, dtype: int64"
      ]
     },
     "execution_count": 7,
     "metadata": {},
     "output_type": "execute_result"
    }
   ],
   "source": [
    "zillow.roomcnt.value_counts()"
   ]
  },
  {
   "cell_type": "code",
   "execution_count": null,
   "id": "a47d2d8e",
   "metadata": {},
   "outputs": [],
   "source": []
  },
  {
   "cell_type": "code",
   "execution_count": null,
   "id": "42bb7df1",
   "metadata": {},
   "outputs": [],
   "source": []
  },
  {
   "cell_type": "code",
   "execution_count": null,
   "id": "a8f50834",
   "metadata": {},
   "outputs": [],
   "source": []
  },
  {
   "cell_type": "code",
   "execution_count": null,
   "id": "f223c376",
   "metadata": {},
   "outputs": [],
   "source": []
  },
  {
   "cell_type": "code",
   "execution_count": null,
   "id": "7112c14d",
   "metadata": {},
   "outputs": [],
   "source": []
  },
  {
   "cell_type": "code",
   "execution_count": null,
   "id": "8b64de98",
   "metadata": {},
   "outputs": [],
   "source": []
  },
  {
   "cell_type": "code",
   "execution_count": null,
   "id": "0bd4b5a4",
   "metadata": {},
   "outputs": [],
   "source": []
  },
  {
   "cell_type": "code",
   "execution_count": null,
   "id": "479e4696",
   "metadata": {},
   "outputs": [],
   "source": []
  },
  {
   "cell_type": "code",
   "execution_count": null,
   "id": "c4b52703",
   "metadata": {},
   "outputs": [],
   "source": []
  },
  {
   "cell_type": "code",
   "execution_count": null,
   "id": "f47e075f",
   "metadata": {},
   "outputs": [],
   "source": []
  },
  {
   "cell_type": "markdown",
   "id": "e5919bdc",
   "metadata": {},
   "source": [
    "## Mall Customers"
   ]
  },
  {
   "cell_type": "markdown",
   "id": "230de818",
   "metadata": {},
   "source": [
    "### 1. Acquire data from the customers table in the mall_customers database."
   ]
  },
  {
   "cell_type": "code",
   "execution_count": null,
   "id": "081a0ec0",
   "metadata": {},
   "outputs": [],
   "source": [
    "mall = wrangle_mall.get_mall_data()"
   ]
  },
  {
   "cell_type": "code",
   "execution_count": null,
   "id": "d8c5861a",
   "metadata": {},
   "outputs": [],
   "source": [
    "mall.head()"
   ]
  },
  {
   "cell_type": "markdown",
   "id": "12068047",
   "metadata": {},
   "source": [
    "### 2. Summarize the data (include distributions and descriptive statistics)"
   ]
  },
  {
   "cell_type": "code",
   "execution_count": null,
   "id": "ce6ef075",
   "metadata": {},
   "outputs": [],
   "source": [
    "mall.select_dtypes(include = ['int64']).head()"
   ]
  },
  {
   "cell_type": "code",
   "execution_count": null,
   "id": "d99c4f2a",
   "metadata": {},
   "outputs": [],
   "source": [
    "def summary_mall_data(df):\n",
    "    print(\"dataframe head\")\n",
    "    print()\n",
    "    print(df.head())\n",
    "    print()\n",
    "    print(\"dataframe info\")\n",
    "    print()\n",
    "    print(df.info())\n",
    "    print()\n",
    "    print(\"describe dataframe\")\n",
    "    print()\n",
    "    print(df.describe().T)\n",
    "    print()\n",
    "    numerical_col = [col for col in df.columns if col in df.select_dtypes(include = [\"number\"])]\n",
    "    categorical_col = [col for col in df.columns if col in df.select_dtypes(include = [\"object\"])]\n",
    "    for col in df.columns:\n",
    "        print(\"column name:\", col)\n",
    "        if col in categorical_col:\n",
    "            print (df[col].value_counts())\n",
    "            print()\n",
    "        else:\n",
    "            print (df[col].value_counts(bins = 10))\n",
    "            print()"
   ]
  },
  {
   "cell_type": "code",
   "execution_count": null,
   "id": "7fd713c0",
   "metadata": {},
   "outputs": [],
   "source": [
    "summary_mall_data(mall)"
   ]
  },
  {
   "cell_type": "code",
   "execution_count": null,
   "id": "47cce5d7",
   "metadata": {},
   "outputs": [],
   "source": []
  }
 ],
 "metadata": {
  "kernelspec": {
   "display_name": "Python 3 (ipykernel)",
   "language": "python",
   "name": "python3"
  },
  "language_info": {
   "codemirror_mode": {
    "name": "ipython",
    "version": 3
   },
   "file_extension": ".py",
   "mimetype": "text/x-python",
   "name": "python",
   "nbconvert_exporter": "python",
   "pygments_lexer": "ipython3",
   "version": "3.9.12"
  }
 },
 "nbformat": 4,
 "nbformat_minor": 5
}
